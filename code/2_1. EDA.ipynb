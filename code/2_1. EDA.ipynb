{
 "cells": [
  {
   "cell_type": "markdown",
   "id": "c18f68f7",
   "metadata": {},
   "source": [
    "# Setting up"
   ]
  },
  {
   "cell_type": "code",
   "execution_count": 1,
   "id": "37135e51",
   "metadata": {},
   "outputs": [],
   "source": [
    "# Python Stuff\n",
    "import pandas as pd\n",
    "import mpl_toolkits\n",
    "import seaborn as sns \n",
    "from functools import reduce\n",
    "import matplotlib.pyplot as plt\n",
    "\n",
    "#PySpark stuff\n",
    "import pyspark.sql.functions as F\n",
    "from pyspark.sql.functions import isnan, when, count, col, avg\n",
    "from pyspark.sql.types import IntegerType, BooleanType, DateType, FloatType"
   ]
  },
  {
   "cell_type": "code",
   "execution_count": 2,
   "id": "2e74615a",
   "metadata": {},
   "outputs": [],
   "source": [
    "from pyspark.sql import SparkSession\n",
    "\n",
    "spark = SparkSession \\\n",
    "  .builder \\\n",
    "  .master('yarn') \\\n",
    "  .appName('spark-bigquery-demo') \\\n",
    "  .config(\"spark.jars.packages\", \"com.johnsnowlabs.nlp:spark-nlp-spark23_2.12:3.0.3\")\\\n",
    "  .getOrCreate()"
   ]
  },
  {
   "cell_type": "code",
   "execution_count": 3,
   "id": "c575b040",
   "metadata": {},
   "outputs": [],
   "source": [
    "bucket = \"big-data-yelp\"\n",
    "spark.conf.set('temporaryGcsBucket', bucket)"
   ]
  },
  {
   "cell_type": "markdown",
   "id": "36f41031",
   "metadata": {},
   "source": [
    "## Loading Business Basic"
   ]
  },
  {
   "cell_type": "code",
   "execution_count": 28,
   "id": "ebcdfe65",
   "metadata": {},
   "outputs": [],
   "source": [
    "table = 'red-formula-339716:gfds.yelp_business_basicdata'\n",
    "df_b = spark.read.format('bigquery').option('table', table).load()"
   ]
  },
  {
   "cell_type": "code",
   "execution_count": 5,
   "id": "db9d50c6",
   "metadata": {},
   "outputs": [
    {
     "name": "stderr",
     "output_type": "stream",
     "text": [
      "\r",
      "[Stage 0:>                                                          (0 + 1) / 1]\r"
     ]
    },
    {
     "name": "stdout",
     "output_type": "stream",
     "text": [
      "+-------------+--------------------+----------------+----------------+---------+-----+-----------+-------------+---------------+-----+------------+-------+--------------------+\n",
      "|int64_field_0|         business_id|            name|         address|     city|state|postal_code|     latitude|      longitude|stars|review_count|is_open|          categories|\n",
      "+-------------+--------------------+----------------+----------------+---------+-----+-----------+-------------+---------------+-----+------------+-------+--------------------+\n",
      "|        10020|2tgAgCI8EJUA16EN4...|     Shaw Direct|W Georgia Street|Vancouver|   BC|       null|    49.285726|   -123.1231553|  2.0|           5|      1|Home Services, Pr...|\n",
      "|        32306|wzwGYL2M4SvoLgTok...|Austin Tree Pros|            null|   Austin|   TX|       null|    30.267153|    -97.7430608|  2.0|           5|      1|Tree Services, La...|\n",
      "|        37509|Tsk7LgyqWSwQSumLj...|   Pacific Grill|            null|Vancouver|   BC|       null|49.1981952989|-123.1751060486|  2.0|           7|      1|Restaurants, Cana...|\n",
      "+-------------+--------------------+----------------+----------------+---------+-----+-----------+-------------+---------------+-----+------------+-------+--------------------+\n",
      "only showing top 3 rows\n",
      "\n"
     ]
    },
    {
     "name": "stderr",
     "output_type": "stream",
     "text": [
      "\r",
      "                                                                                \r"
     ]
    }
   ],
   "source": [
    "df_b.show(3)"
   ]
  },
  {
   "cell_type": "markdown",
   "id": "75214d68",
   "metadata": {},
   "source": [
    "## Flitering Restaurants and Food & Cleaning"
   ]
  },
  {
   "cell_type": "code",
   "execution_count": 8,
   "id": "ab936a6b",
   "metadata": {},
   "outputs": [
    {
     "name": "stderr",
     "output_type": "stream",
     "text": [
      "\r",
      "[Stage 4:>                                                          (0 + 1) / 1]\r"
     ]
    },
    {
     "name": "stdout",
     "output_type": "stream",
     "text": [
      "+-------------+-----+\n",
      "|categories   |count|\n",
      "+-------------+-----+\n",
      "|Restaurants  |50763|\n",
      "|Food         |29469|\n",
      "|Shopping     |26205|\n",
      "|Beauty & Spas|16574|\n",
      "|Home Services|16465|\n",
      "+-------------+-----+\n",
      "only showing top 5 rows\n",
      "\n"
     ]
    },
    {
     "name": "stderr",
     "output_type": "stream",
     "text": [
      "\r",
      "                                                                                \r"
     ]
    }
   ],
   "source": [
    "from pyspark.sql.functions import explode, split, col\n",
    "df_b = df_b.withColumn('categories',(explode(split(col(\"categories\"), \", \"))))\n",
    "df_b.groupby('categories').count().orderBy('count', ascending= 0).show(5, truncate = False)"
   ]
  },
  {
   "cell_type": "markdown",
   "id": "ae04d886",
   "metadata": {},
   "source": [
    "As we can see Restaurants have the highest amount among all business. Therefore, we decide to look into restaurants for our business use instead of whole business."
   ]
  },
  {
   "cell_type": "code",
   "execution_count": 9,
   "id": "190ff53d",
   "metadata": {},
   "outputs": [],
   "source": [
    "df_r = df_b.filter(df_b.categories.like(\"%Restaurants%\"))"
   ]
  },
  {
   "cell_type": "code",
   "execution_count": 10,
   "id": "f0053010",
   "metadata": {},
   "outputs": [],
   "source": [
    "# Drop address and null values\n",
    "df_r = df_r.drop('int64_field_0').drop('address')\n",
    "df_r = df_r.na.drop(subset=[\"postal_code\",\"categories\"])"
   ]
  },
  {
   "cell_type": "markdown",
   "id": "81dcac35",
   "metadata": {},
   "source": [
    "## Loading yelp_business_ambience"
   ]
  },
  {
   "cell_type": "code",
   "execution_count": 11,
   "id": "cbdab51f",
   "metadata": {},
   "outputs": [],
   "source": [
    "table_a = 'red-formula-339716:gfds.yelp_business_ambience'\n",
    "df_a = spark.read.format('bigquery').option('table', table_a).load()"
   ]
  },
  {
   "cell_type": "code",
   "execution_count": 12,
   "id": "09fc085d",
   "metadata": {},
   "outputs": [],
   "source": [
    "cols = [\"casual\", \"classy\", \"divey\", \"hipster\", \"intimate\", \"romantic\", \"touristy\", \"trendy\", \"upscale\"]\n",
    "df_a = reduce(lambda df_a, c: df_a.withColumn(c, F.when(df_a[c] == 'false', 0).otherwise(1)), cols, df_a)"
   ]
  },
  {
   "cell_type": "code",
   "execution_count": 13,
   "id": "c84664fe",
   "metadata": {},
   "outputs": [],
   "source": [
    "pda = df_a.toPandas()"
   ]
  },
  {
   "cell_type": "markdown",
   "id": "62f95cd0",
   "metadata": {},
   "source": [
    "## Loading business_attributes"
   ]
  },
  {
   "cell_type": "code",
   "execution_count": 14,
   "id": "5cff9fc5",
   "metadata": {},
   "outputs": [],
   "source": [
    "table = 'red-formula-339716:gfds.yelp_business_attrbutes'\n",
    "df_at = spark.read.format('bigquery').option('table', table).load()"
   ]
  },
  {
   "cell_type": "markdown",
   "id": "4d5f7b12",
   "metadata": {},
   "source": [
    "## Loading business_businessparking"
   ]
  },
  {
   "cell_type": "code",
   "execution_count": 15,
   "id": "83ef3436",
   "metadata": {},
   "outputs": [],
   "source": [
    "table = 'red-formula-339716:gfds.yelp_business_businessparking'\n",
    "df_p = spark.read.format('bigquery').option('table', table).load()"
   ]
  },
  {
   "cell_type": "markdown",
   "id": "eb3c480d",
   "metadata": {},
   "source": [
    "## Loading Reviews"
   ]
  },
  {
   "cell_type": "code",
   "execution_count": 16,
   "id": "1b9fb1f7",
   "metadata": {},
   "outputs": [],
   "source": [
    "table_re = 'red-formula-339716:gfds.yelp_review'\n",
    "df_re = spark.read.format('bigquery').option('table', table_re).load()"
   ]
  },
  {
   "cell_type": "code",
   "execution_count": 17,
   "id": "4abe8882",
   "metadata": {},
   "outputs": [],
   "source": [
    "# change column stars to review_star\n",
    "df_re= df_re.withColumnRenamed(\"stars\",\"review_stars\")"
   ]
  },
  {
   "cell_type": "code",
   "execution_count": 18,
   "id": "d5a6a011",
   "metadata": {},
   "outputs": [],
   "source": [
    "from pyspark.sql.functions import col, to_timestamp\n",
    "from pyspark.sql.functions import month,year,hour\n",
    "df_re = df_re.withColumn('compliment_count', col('cool') + col('funny') + col('useful')).drop('cool','funny','useful')\n",
    "df_re = df_re.withColumn('date', to_timestamp(col('date'), \"yyyy-MM-dd HH:mm:ss\"))\n",
    "df_re = df_re.withColumn('year', year(df_re['date']))\n",
    "df_re = df_re.withColumn('month', month(df_re['date']))\n",
    "df_re = df_re.withColumn('hour', month(df_re['date']))"
   ]
  },
  {
   "cell_type": "markdown",
   "id": "b0f4e0e5",
   "metadata": {},
   "source": [
    "## Loading Covid"
   ]
  },
  {
   "cell_type": "code",
   "execution_count": 19,
   "id": "b3f1bcc2",
   "metadata": {},
   "outputs": [
    {
     "name": "stdout",
     "output_type": "stream",
     "text": [
      "+--------------------+----------+-------------------+---------------+----------------------+-----------------------+------------+----------------------+------------------------+\n",
      "|         business_id|highlights|delivery_or_takeout|grubhub_enabled|call_to_action_enabled|request_a_quote_enabled|covid_banner|temporary_closed_until|virtual_services_offered|\n",
      "+--------------------+----------+-------------------+---------------+----------------------+-----------------------+------------+----------------------+------------------------+\n",
      "|9kXRUIkwdDtnAPO6t...|     FALSE|              false|          false|                 false|                  false|       FALSE|                 FALSE|                   FALSE|\n",
      "|H6D5HOTfMjrZt7r1E...|     FALSE|              false|          false|                 false|                  false|       FALSE|                 FALSE|                   FALSE|\n",
      "|FYddq7fUtzobZcw4j...|     FALSE|              false|          false|                 false|                  false|       FALSE|                 FALSE|                   FALSE|\n",
      "+--------------------+----------+-------------------+---------------+----------------------+-----------------------+------------+----------------------+------------------------+\n",
      "only showing top 3 rows\n",
      "\n"
     ]
    }
   ],
   "source": [
    "table = 'red-formula-339716:gfds.yelp_covid'\n",
    "df_c = spark.read.format('bigquery').option('table', table).load()\n",
    "df_c.show(3)"
   ]
  },
  {
   "cell_type": "code",
   "execution_count": 20,
   "id": "c54a50e7",
   "metadata": {},
   "outputs": [],
   "source": [
    "df_c = df_c.na.drop(subset=[\"covid_banner\"])"
   ]
  },
  {
   "cell_type": "code",
   "execution_count": 21,
   "id": "ca2cd4bd",
   "metadata": {},
   "outputs": [],
   "source": [
    "#Convert true and false to 1 and 0\n",
    "import pyspark.sql.functions as F\n",
    "from functools import reduce\n",
    "\n",
    "cols = [\"highlights\", \"delivery_or_takeout\",\"grubhub_enabled\",\"call_to_action_enabled\",\"request_a_quote_enabled\",\"covid_banner\",\"temporary_closed_until\",\"virtual_services_offered\"]\n",
    "df_c = reduce(lambda df_c, c: df_c.withColumn(c, F.when(df_c[c] == 'false', 0).otherwise(1)), cols, df_c)"
   ]
  },
  {
   "cell_type": "markdown",
   "id": "2f0211cd",
   "metadata": {},
   "source": [
    "## Loading Users table"
   ]
  },
  {
   "cell_type": "code",
   "execution_count": 22,
   "id": "77f8660c",
   "metadata": {},
   "outputs": [
    {
     "name": "stdout",
     "output_type": "stream",
     "text": [
      "+-------------+---------------+---------------+----------------+--------------+---------------+---------------+---------------+-----------------+----------------+------------------+-----------------+----+-----+----+--------------------+-----+-------+------------+------+--------------------+-------------------+\n",
      "|average_stars|compliment_cool|compliment_cute|compliment_funny|compliment_hot|compliment_list|compliment_more|compliment_note|compliment_photos|compliment_plain|compliment_profile|compliment_writer|cool|elite|fans|             friends|funny|   name|review_count|useful|             user_id|      yelping_since|\n",
      "+-------------+---------------+---------------+----------------+--------------+---------------+---------------+---------------+-----------------+----------------+------------------+-----------------+----+-----+----+--------------------+-----+-------+------------+------+--------------------+-------------------+\n",
      "|         3.33|              0|              0|               0|             0|              0|              0|              0|                0|               0|                 0|                0|   0|     |   0|Z_s9YTUKk0vDq_NOM...|    1|   Matt|           3|     1|O3aOXLohuYBptid9H...|2010-01-15 02:01:24|\n",
      "|          1.8|              0|              0|               0|             0|              0|              0|              0|                0|               0|                 0|                0|   0|     |   0|nOPNHDUmGx92eahSB...|    0|Charles|           3|     0|9V3fcigF8Jj0vTedd...|2012-11-19 14:29:26|\n",
      "|         4.26|              0|              0|               0|             0|              0|              0|              0|                0|               1|                 0|                0|   1|     |   1|JA5nnpVFt16_-fzRB...|    2|   Alex|          23|     8|0Klnz63QU-A31c2uu...|2016-04-18 11:37:30|\n",
      "+-------------+---------------+---------------+----------------+--------------+---------------+---------------+---------------+-----------------+----------------+------------------+-----------------+----+-----+----+--------------------+-----+-------+------------+------+--------------------+-------------------+\n",
      "only showing top 3 rows\n",
      "\n"
     ]
    }
   ],
   "source": [
    "table = 'red-formula-339716:gfds.yelp_user'\n",
    "df = spark.read.format('bigquery').option('table', table).load()\n",
    "df.show(3)"
   ]
  },
  {
   "cell_type": "code",
   "execution_count": 23,
   "id": "ddc10c9d",
   "metadata": {},
   "outputs": [],
   "source": [
    "df_user = df.withColumn(\"yelping_since\", to_timestamp(\"yelping_since\", \"yyyy-MM-dd hh:mm:ss\"))"
   ]
  },
  {
   "cell_type": "markdown",
   "id": "82081694",
   "metadata": {},
   "source": [
    "# EDA - Single Tables"
   ]
  },
  {
   "cell_type": "markdown",
   "id": "7188d974",
   "metadata": {},
   "source": [
    "## Business"
   ]
  },
  {
   "cell_type": "code",
   "execution_count": 23,
   "id": "c4118b78",
   "metadata": {},
   "outputs": [
    {
     "name": "stdout",
     "output_type": "stream",
     "text": [
      "+-----+-----+\n",
      "|state|count|\n",
      "+-----+-----+\n",
      "|   MA|10550|\n",
      "|   FL| 7705|\n",
      "|   BC| 7497|\n",
      "|   OR| 7387|\n",
      "|   GA| 6139|\n",
      "|   TX| 5440|\n",
      "|   OH| 4377|\n",
      "|   CO|  863|\n",
      "|   WA|  773|\n",
      "+-----+-----+\n",
      "\n"
     ]
    }
   ],
   "source": [
    "# Getting the states with over 1000 resturants \n",
    "df_r = df_r.where((df_r.state == 'MA') | (df_r.state == 'OR') | (df_r.state == 'TX') | (df_r.state == 'FL') | (df_r.state == 'GA') | (df_r.state == 'BC') | (df_r.state == 'OH') |(df_r.state == 'CO') | (df_r.state == 'WA')) \n",
    "df_r.groupBy('state').count().orderBy('count', ascending  = 0).show(10)"
   ]
  },
  {
   "cell_type": "code",
   "execution_count": 24,
   "id": "72959e7d",
   "metadata": {},
   "outputs": [
    {
     "data": {
      "text/plain": [
       "<AxesSubplot:xlabel='stars'>"
      ]
     },
     "execution_count": 24,
     "metadata": {},
     "output_type": "execute_result"
    },
    {
     "data": {
      "image/png": "[encoded data removed]",
      "text/plain": [
       "<Figure size 864x288 with 1 Axes>"
      ]
     },
     "metadata": {
      "needs_background": "light"
     },
     "output_type": "display_data"
    }
   ],
   "source": [
    "# Stars Distribution\n",
    "#df_r.groupBy('stars').count().orderBy('count', ascending = 0).show()\n",
    "pd_s = df_r.groupBy('stars').count().orderBy('stars', ascending = 1).toPandas()\n",
    "pd_s.plot.bar(x = 'stars', y = 'count', figsize=(12,4))"
   ]
  },
  {
   "cell_type": "code",
   "execution_count": 25,
   "id": "beca5443",
   "metadata": {},
   "outputs": [
    {
     "name": "stdout",
     "output_type": "stream",
     "text": [
      "+-------+-----+\n",
      "|is_open|count|\n",
      "+-------+-----+\n",
      "|      0|18724|\n",
      "|      1|32007|\n",
      "+-------+-----+\n",
      "\n"
     ]
    }
   ],
   "source": [
    "# Show how many resturants is open\n",
    "df_r.groupBy('is_open').count().orderBy('count').show()"
   ]
  },
  {
   "cell_type": "markdown",
   "id": "b8bae2cd",
   "metadata": {},
   "source": [
    "## Business_ambience"
   ]
  },
  {
   "cell_type": "code",
   "execution_count": 26,
   "id": "43573e38",
   "metadata": {},
   "outputs": [
    {
     "data": {
      "text/plain": [
       "business_id             casual  classy  divey  hipster  intimate  romantic  touristy  trendy  upscale\n",
       "--164t1nclzzmca7eDiJMw  0       0       0      1        0         0         0         0       0          1\n",
       "eY3-ZE8-njGOglACqFYqVQ  1       1       0      0        0         0         0         0       0          1\n",
       "eZcy-jmMJyYurpAi4xRVvA  1       0       0      0        0         0         0         0       0          1\n",
       "eZcqcW1nWHroIdVLlswUtw  1       0       0      0        0         0         0         0       0          1\n",
       "eZU5NF_tQfEtpE_ed7hoBA  1       0       0      0        0         0         0         0       0          1\n",
       "                                                                                                        ..\n",
       "K-5qxj6HIXbFd1fx-7r_xA  1       0       0      0        0         0         0         0       0          1\n",
       "JzuiySs1YZON_71TqAWIKQ  1       0       0      0        0         0         0         1       0          1\n",
       "JzlX-_eTIPEe2Ntytg1PPw  1       0       0      0        0         0         0         0       0          1\n",
       "JzfKF_gFc4P4FmGo04by_g  1       1       0      0        0         0         0         0       0          1\n",
       "zzpmoTVq4yn86U7ArHyFBQ  0       1       0      0        0         0         0         0       0          1\n",
       "Length: 28233, dtype: int64"
      ]
     },
     "execution_count": 26,
     "metadata": {},
     "output_type": "execute_result"
    }
   ],
   "source": [
    "# show the ambience of each business\n",
    "pda.value_counts()"
   ]
  },
  {
   "cell_type": "code",
   "execution_count": 27,
   "id": "7624b538",
   "metadata": {},
   "outputs": [],
   "source": [
    "df2 = df_r.select('business_id', 'name', 'stars').join(df_a, ['business_id'], \"inner\").drop('business_id', 'name')"
   ]
  },
  {
   "cell_type": "code",
   "execution_count": 28,
   "id": "0a5fa8e2",
   "metadata": {
    "scrolled": false
   },
   "outputs": [
    {
     "name": "stdout",
     "output_type": "stream",
     "text": [
      "+------+------------------+\n",
      "|casual|        avg(stars)|\n",
      "+------+------------------+\n",
      "|     1|3.6114103933497423|\n",
      "|     0| 3.726584296532483|\n",
      "+------+------------------+\n",
      "\n",
      "+------+------------------+\n",
      "|classy|        avg(stars)|\n",
      "+------+------------------+\n",
      "|     1|3.7942430703624734|\n",
      "|     0|  3.58026019514636|\n",
      "+------+------------------+\n",
      "\n",
      "+-----+------------------+\n",
      "|divey|        avg(stars)|\n",
      "+-----+------------------+\n",
      "|    1| 3.572354211663067|\n",
      "|    0|3.6353756097560974|\n",
      "+-----+------------------+\n",
      "\n",
      "+-------+------------------+\n",
      "|hipster|        avg(stars)|\n",
      "+-------+------------------+\n",
      "|      1|3.9585172109443953|\n",
      "|      0|3.6186757416004407|\n",
      "+-------+------------------+\n",
      "\n",
      "+--------+------------------+\n",
      "|intimate|        avg(stars)|\n",
      "+--------+------------------+\n",
      "|       1|3.9869831546707504|\n",
      "|       0| 3.624256699359024|\n",
      "+--------+------------------+\n",
      "\n",
      "+--------+------------------+\n",
      "|romantic|        avg(stars)|\n",
      "+--------+------------------+\n",
      "|       1| 3.865553602811951|\n",
      "|       0|3.6280886767762297|\n",
      "+--------+------------------+\n",
      "\n",
      "+--------+-----------------+\n",
      "|touristy|       avg(stars)|\n",
      "+--------+-----------------+\n",
      "|       1| 3.45873786407767|\n",
      "|       0|3.635927158651823|\n",
      "+--------+-----------------+\n",
      "\n",
      "+------+-----------------+\n",
      "|trendy|       avg(stars)|\n",
      "+------+-----------------+\n",
      "|     1|3.844509803921569|\n",
      "|     0|3.610724553143619|\n",
      "+------+-----------------+\n",
      "\n",
      "+-------+------------------+\n",
      "|upscale|        avg(stars)|\n",
      "+-------+------------------+\n",
      "|      1|  3.86117136659436|\n",
      "|      0|3.6291490992717517|\n",
      "+-------+------------------+\n",
      "\n"
     ]
    }
   ],
   "source": [
    "# It shows the averge star of differernt ambience \n",
    "df2.groupBy('casual').agg(avg('stars')).show()\n",
    "df2.groupBy('classy').agg(avg('stars')).show()\n",
    "df2.groupBy('divey').agg(avg('stars')).show()\n",
    "df2.groupBy('hipster').agg(avg('stars')).show()\n",
    "df2.groupBy('intimate').agg(avg('stars')).show()\n",
    "df2.groupBy('romantic').agg(avg('stars')).show()\n",
    "df2.groupBy('touristy').agg(avg('stars')).show()\n",
    "df2.groupBy('trendy').agg(avg('stars')).show()\n",
    "df2.groupBy('upscale').agg(avg('stars')).show()"
   ]
  },
  {
   "cell_type": "code",
   "execution_count": 29,
   "id": "d941a411",
   "metadata": {},
   "outputs": [],
   "source": [
    "df2pd = df2.toPandas()"
   ]
  },
  {
   "cell_type": "code",
   "execution_count": 30,
   "id": "c452caed",
   "metadata": {},
   "outputs": [
    {
     "data": {
      "text/html": [
       "<div>\n",
       "<style scoped>\n",
       "    .dataframe tbody tr th:only-of-type {\n",
       "        vertical-align: middle;\n",
       "    }\n",
       "\n",
       "    .dataframe tbody tr th {\n",
       "        vertical-align: top;\n",
       "    }\n",
       "\n",
       "    .dataframe thead th {\n",
       "        text-align: right;\n",
       "    }\n",
       "</style>\n",
       "<table border=\"1\" class=\"dataframe\">\n",
       "  <thead>\n",
       "    <tr style=\"text-align: right;\">\n",
       "      <th></th>\n",
       "      <th>stars</th>\n",
       "      <th>casual</th>\n",
       "      <th>classy</th>\n",
       "      <th>divey</th>\n",
       "      <th>hipster</th>\n",
       "      <th>intimate</th>\n",
       "      <th>romantic</th>\n",
       "      <th>touristy</th>\n",
       "      <th>trendy</th>\n",
       "      <th>upscale</th>\n",
       "    </tr>\n",
       "  </thead>\n",
       "  <tbody>\n",
       "    <tr>\n",
       "      <th>0</th>\n",
       "      <td>2.0</td>\n",
       "      <td>1</td>\n",
       "      <td>0</td>\n",
       "      <td>0</td>\n",
       "      <td>0</td>\n",
       "      <td>0</td>\n",
       "      <td>0</td>\n",
       "      <td>0</td>\n",
       "      <td>0</td>\n",
       "      <td>0</td>\n",
       "    </tr>\n",
       "    <tr>\n",
       "      <th>1</th>\n",
       "      <td>2.0</td>\n",
       "      <td>1</td>\n",
       "      <td>0</td>\n",
       "      <td>0</td>\n",
       "      <td>0</td>\n",
       "      <td>0</td>\n",
       "      <td>0</td>\n",
       "      <td>0</td>\n",
       "      <td>0</td>\n",
       "      <td>0</td>\n",
       "    </tr>\n",
       "    <tr>\n",
       "      <th>2</th>\n",
       "      <td>2.0</td>\n",
       "      <td>0</td>\n",
       "      <td>0</td>\n",
       "      <td>0</td>\n",
       "      <td>0</td>\n",
       "      <td>0</td>\n",
       "      <td>0</td>\n",
       "      <td>0</td>\n",
       "      <td>1</td>\n",
       "      <td>0</td>\n",
       "    </tr>\n",
       "    <tr>\n",
       "      <th>3</th>\n",
       "      <td>2.0</td>\n",
       "      <td>1</td>\n",
       "      <td>0</td>\n",
       "      <td>0</td>\n",
       "      <td>0</td>\n",
       "      <td>0</td>\n",
       "      <td>0</td>\n",
       "      <td>0</td>\n",
       "      <td>0</td>\n",
       "      <td>0</td>\n",
       "    </tr>\n",
       "    <tr>\n",
       "      <th>4</th>\n",
       "      <td>2.0</td>\n",
       "      <td>1</td>\n",
       "      <td>0</td>\n",
       "      <td>0</td>\n",
       "      <td>0</td>\n",
       "      <td>0</td>\n",
       "      <td>0</td>\n",
       "      <td>0</td>\n",
       "      <td>0</td>\n",
       "      <td>0</td>\n",
       "    </tr>\n",
       "    <tr>\n",
       "      <th>...</th>\n",
       "      <td>...</td>\n",
       "      <td>...</td>\n",
       "      <td>...</td>\n",
       "      <td>...</td>\n",
       "      <td>...</td>\n",
       "      <td>...</td>\n",
       "      <td>...</td>\n",
       "      <td>...</td>\n",
       "      <td>...</td>\n",
       "      <td>...</td>\n",
       "    </tr>\n",
       "    <tr>\n",
       "      <th>26546</th>\n",
       "      <td>1.5</td>\n",
       "      <td>1</td>\n",
       "      <td>0</td>\n",
       "      <td>0</td>\n",
       "      <td>0</td>\n",
       "      <td>0</td>\n",
       "      <td>0</td>\n",
       "      <td>0</td>\n",
       "      <td>0</td>\n",
       "      <td>0</td>\n",
       "    </tr>\n",
       "    <tr>\n",
       "      <th>26547</th>\n",
       "      <td>1.5</td>\n",
       "      <td>1</td>\n",
       "      <td>0</td>\n",
       "      <td>0</td>\n",
       "      <td>0</td>\n",
       "      <td>0</td>\n",
       "      <td>0</td>\n",
       "      <td>0</td>\n",
       "      <td>0</td>\n",
       "      <td>0</td>\n",
       "    </tr>\n",
       "    <tr>\n",
       "      <th>26548</th>\n",
       "      <td>1.5</td>\n",
       "      <td>1</td>\n",
       "      <td>0</td>\n",
       "      <td>0</td>\n",
       "      <td>1</td>\n",
       "      <td>0</td>\n",
       "      <td>0</td>\n",
       "      <td>0</td>\n",
       "      <td>0</td>\n",
       "      <td>0</td>\n",
       "    </tr>\n",
       "    <tr>\n",
       "      <th>26549</th>\n",
       "      <td>1.5</td>\n",
       "      <td>1</td>\n",
       "      <td>0</td>\n",
       "      <td>0</td>\n",
       "      <td>0</td>\n",
       "      <td>0</td>\n",
       "      <td>0</td>\n",
       "      <td>0</td>\n",
       "      <td>0</td>\n",
       "      <td>0</td>\n",
       "    </tr>\n",
       "    <tr>\n",
       "      <th>26550</th>\n",
       "      <td>1.5</td>\n",
       "      <td>0</td>\n",
       "      <td>1</td>\n",
       "      <td>0</td>\n",
       "      <td>0</td>\n",
       "      <td>0</td>\n",
       "      <td>0</td>\n",
       "      <td>0</td>\n",
       "      <td>0</td>\n",
       "      <td>0</td>\n",
       "    </tr>\n",
       "  </tbody>\n",
       "</table>\n",
       "<p>26551 rows × 10 columns</p>\n",
       "</div>"
      ],
      "text/plain": [
       "       stars  casual  classy  divey  hipster  intimate  romantic  touristy  \\\n",
       "0        2.0       1       0      0        0         0         0         0   \n",
       "1        2.0       1       0      0        0         0         0         0   \n",
       "2        2.0       0       0      0        0         0         0         0   \n",
       "3        2.0       1       0      0        0         0         0         0   \n",
       "4        2.0       1       0      0        0         0         0         0   \n",
       "...      ...     ...     ...    ...      ...       ...       ...       ...   \n",
       "26546    1.5       1       0      0        0         0         0         0   \n",
       "26547    1.5       1       0      0        0         0         0         0   \n",
       "26548    1.5       1       0      0        1         0         0         0   \n",
       "26549    1.5       1       0      0        0         0         0         0   \n",
       "26550    1.5       0       1      0        0         0         0         0   \n",
       "\n",
       "       trendy  upscale  \n",
       "0           0        0  \n",
       "1           0        0  \n",
       "2           1        0  \n",
       "3           0        0  \n",
       "4           0        0  \n",
       "...       ...      ...  \n",
       "26546       0        0  \n",
       "26547       0        0  \n",
       "26548       0        0  \n",
       "26549       0        0  \n",
       "26550       0        0  \n",
       "\n",
       "[26551 rows x 10 columns]"
      ]
     },
     "execution_count": 30,
     "metadata": {},
     "output_type": "execute_result"
    }
   ],
   "source": [
    "df2pd"
   ]
  },
  {
   "cell_type": "code",
   "execution_count": 31,
   "id": "4a377062",
   "metadata": {},
   "outputs": [
    {
     "data": {
      "image/png": "[encoded data removed]",
      "text/plain": [
       "<Figure size 432x288 with 1 Axes>"
      ]
     },
     "metadata": {
      "needs_background": "light"
     },
     "output_type": "display_data"
    }
   ],
   "source": [
    "ax = sns.violinplot(x=df2pd[\"romantic\"], y=df2pd[\"stars\"])"
   ]
  },
  {
   "cell_type": "code",
   "execution_count": 32,
   "id": "f6986c72",
   "metadata": {
    "scrolled": true
   },
   "outputs": [
    {
     "data": {
      "image/png": "[encoded data removed]",
      "text/plain": [
       "<Figure size 432x288 with 1 Axes>"
      ]
     },
     "metadata": {
      "needs_background": "light"
     },
     "output_type": "display_data"
    }
   ],
   "source": [
    "ax = sns.violinplot(x=df2pd[\"hipster\"], y=df2pd[\"stars\"])"
   ]
  },
  {
   "cell_type": "markdown",
   "id": "32a1b448",
   "metadata": {},
   "source": [
    "classy, hipster, intimate, romantic, trendy, and upscale have very high  average stars. This could mean the ambience can affect restaurants' ratings"
   ]
  },
  {
   "cell_type": "markdown",
   "id": "c79383f7",
   "metadata": {},
   "source": [
    "## Business_ambience"
   ]
  },
  {
   "cell_type": "code",
   "execution_count": 33,
   "id": "2be4bcf6",
   "metadata": {},
   "outputs": [],
   "source": [
    "df3 = df_r.select('business_id', 'name', 'stars').join(df_at, ['business_id'], \"inner\").drop('business_id', 'name')"
   ]
  },
  {
   "cell_type": "code",
   "execution_count": 34,
   "id": "825e8d2c",
   "metadata": {},
   "outputs": [
    {
     "name": "stdout",
     "output_type": "stream",
     "text": [
      "+---------------+------------------+\n",
      "|attributes_WiFi|        avg(stars)|\n",
      "+---------------+------------------+\n",
      "|          False|3.4043987799004656|\n",
      "|           free|3.5890043737948547|\n",
      "|           paid|3.2661870503597124|\n",
      "|             no| 3.541118814248147|\n",
      "+---------------+------------------+\n",
      "\n",
      "+----------------------+-----------------+\n",
      "|attributes_BikeParking|       avg(stars)|\n",
      "+----------------------+-----------------+\n",
      "|                  true|3.629050565706126|\n",
      "|                 false|3.406063193851409|\n",
      "+----------------------+-----------------+\n",
      "\n",
      "+-----------------------------------+------------------+\n",
      "|attributes_RestaurantsGoodForGroups|        avg(stars)|\n",
      "+-----------------------------------+------------------+\n",
      "|                               true|3.4884443824923332|\n",
      "|                              false| 3.617017697328578|\n",
      "+-----------------------------------+------------------+\n",
      "\n",
      "+---------------------------------+------------------+\n",
      "|attributes_RestaurantsPriceRange2|        avg(stars)|\n",
      "+---------------------------------+------------------+\n",
      "|                                3|3.6313273340832395|\n",
      "|                            False|3.8294376693766936|\n",
      "|                                1| 3.407709650541587|\n",
      "|                                4| 3.716326530612245|\n",
      "|                                2|3.5435694835052005|\n",
      "+---------------------------------+------------------+\n",
      "\n",
      "+-----------------------------+------------------+\n",
      "|attributes_RestaurantsTakeOut|        avg(stars)|\n",
      "+-----------------------------+------------------+\n",
      "|                         true|3.5142045454545454|\n",
      "|                        false|3.6088728640852796|\n",
      "+-----------------------------+------------------+\n",
      "\n",
      "+---------------------+------------------+\n",
      "|attributes_NoiseLevel|        avg(stars)|\n",
      "+---------------------+------------------+\n",
      "|                False|3.5503777495487063|\n",
      "|              average|3.5530182050463113|\n",
      "|                 loud|3.2632896764252695|\n",
      "|                quiet|3.5501452483054363|\n",
      "|            very_loud| 2.939511653718091|\n",
      "+---------------------+------------------+\n",
      "\n",
      "+----------------------------+------------------+\n",
      "|attributes_RestaurantsAttire|        avg(stars)|\n",
      "+----------------------------+------------------+\n",
      "|                      formal|2.8492063492063493|\n",
      "|                       False| 3.733385153517295|\n",
      "|                      casual| 3.471017240507609|\n",
      "|                      dressy|3.6344743276283618|\n",
      "+----------------------------+------------------+\n",
      "\n",
      "+----------------------+------------------+\n",
      "|attributes_GoodForKids|        avg(stars)|\n",
      "+----------------------+------------------+\n",
      "|                  true|3.4822303223601776|\n",
      "|                 false|3.6247838616714696|\n",
      "+----------------------+------------------+\n",
      "\n"
     ]
    }
   ],
   "source": [
    "df3.groupBy('attributes_WiFi').agg(avg('stars')).show()\n",
    "df3.groupBy('attributes_BikeParking').agg(avg('stars')).show()\n",
    "df3.groupBy('attributes_RestaurantsGoodForGroups').agg(avg('stars')).show()\n",
    "df3.groupBy('attributes_RestaurantsPriceRange2').agg(avg('stars')).show()\n",
    "df3.groupBy('attributes_RestaurantsTakeOut').agg(avg('stars')).show()\n",
    "df3.groupBy('attributes_NoiseLevel').agg(avg('stars')).show()\n",
    "df3.groupBy('attributes_RestaurantsAttire').agg(avg('stars')).show()\n",
    "df3.groupBy('attributes_GoodForKids').agg(avg('stars')).show()"
   ]
  },
  {
   "cell_type": "code",
   "execution_count": 35,
   "id": "b3f094cf",
   "metadata": {},
   "outputs": [
    {
     "name": "stderr",
     "output_type": "stream",
     "text": [
      "22/03/12 03:31:49 WARN org.apache.spark.sql.catalyst.util.package: Truncated the string representation of a plan since it was too large. This behavior can be adjusted by setting 'spark.sql.debug.maxToStringFields'.\n",
      "                                                                                \r"
     ]
    },
    {
     "data": {
      "text/html": [
       "<div>\n",
       "<style scoped>\n",
       "    .dataframe tbody tr th:only-of-type {\n",
       "        vertical-align: middle;\n",
       "    }\n",
       "\n",
       "    .dataframe tbody tr th {\n",
       "        vertical-align: top;\n",
       "    }\n",
       "\n",
       "    .dataframe thead th {\n",
       "        text-align: right;\n",
       "    }\n",
       "</style>\n",
       "<table border=\"1\" class=\"dataframe\">\n",
       "  <thead>\n",
       "    <tr style=\"text-align: right;\">\n",
       "      <th></th>\n",
       "      <th>stars</th>\n",
       "      <th>attributes_RestaurantsTableService</th>\n",
       "      <th>attributes_WiFi</th>\n",
       "      <th>attributes_BikeParking</th>\n",
       "      <th>attributes_BusinessAcceptsCreditCards</th>\n",
       "      <th>attributes_RestaurantsReservations</th>\n",
       "      <th>attributes_WheelchairAccessible</th>\n",
       "      <th>attributes_Caters</th>\n",
       "      <th>attributes_OutdoorSeating</th>\n",
       "      <th>attributes_RestaurantsGoodForGroups</th>\n",
       "      <th>...</th>\n",
       "      <th>attributes_GoodForDancing</th>\n",
       "      <th>attributes_BYOB</th>\n",
       "      <th>attributes_CoatCheck</th>\n",
       "      <th>attributes_Smoking</th>\n",
       "      <th>attributes_DriveThru</th>\n",
       "      <th>attributes_BYOBCorkage</th>\n",
       "      <th>attributes_Corkage</th>\n",
       "      <th>attributes_RestaurantsCounterService</th>\n",
       "      <th>attributes_AgesAllowed</th>\n",
       "      <th>attributes_Open24Hours</th>\n",
       "    </tr>\n",
       "  </thead>\n",
       "  <tbody>\n",
       "    <tr>\n",
       "      <th>0</th>\n",
       "      <td>4.5</td>\n",
       "      <td>False</td>\n",
       "      <td>False</td>\n",
       "      <td>True</td>\n",
       "      <td>True</td>\n",
       "      <td>False</td>\n",
       "      <td>False</td>\n",
       "      <td>True</td>\n",
       "      <td>False</td>\n",
       "      <td>False</td>\n",
       "      <td>...</td>\n",
       "      <td>False</td>\n",
       "      <td>False</td>\n",
       "      <td>False</td>\n",
       "      <td>False</td>\n",
       "      <td>False</td>\n",
       "      <td>False</td>\n",
       "      <td>False</td>\n",
       "      <td>False</td>\n",
       "      <td>False</td>\n",
       "      <td>False</td>\n",
       "    </tr>\n",
       "    <tr>\n",
       "      <th>1</th>\n",
       "      <td>4.5</td>\n",
       "      <td>False</td>\n",
       "      <td>no</td>\n",
       "      <td>True</td>\n",
       "      <td>True</td>\n",
       "      <td>False</td>\n",
       "      <td>True</td>\n",
       "      <td>True</td>\n",
       "      <td>False</td>\n",
       "      <td>False</td>\n",
       "      <td>...</td>\n",
       "      <td>False</td>\n",
       "      <td>False</td>\n",
       "      <td>False</td>\n",
       "      <td>False</td>\n",
       "      <td>False</td>\n",
       "      <td>False</td>\n",
       "      <td>False</td>\n",
       "      <td>False</td>\n",
       "      <td>False</td>\n",
       "      <td>False</td>\n",
       "    </tr>\n",
       "    <tr>\n",
       "      <th>2</th>\n",
       "      <td>2.5</td>\n",
       "      <td>False</td>\n",
       "      <td>free</td>\n",
       "      <td>True</td>\n",
       "      <td>True</td>\n",
       "      <td>False</td>\n",
       "      <td>False</td>\n",
       "      <td>True</td>\n",
       "      <td>True</td>\n",
       "      <td>False</td>\n",
       "      <td>...</td>\n",
       "      <td>False</td>\n",
       "      <td>False</td>\n",
       "      <td>False</td>\n",
       "      <td>False</td>\n",
       "      <td>False</td>\n",
       "      <td>False</td>\n",
       "      <td>False</td>\n",
       "      <td>False</td>\n",
       "      <td>False</td>\n",
       "      <td>False</td>\n",
       "    </tr>\n",
       "    <tr>\n",
       "      <th>3</th>\n",
       "      <td>3.5</td>\n",
       "      <td>False</td>\n",
       "      <td>free</td>\n",
       "      <td>True</td>\n",
       "      <td>True</td>\n",
       "      <td>False</td>\n",
       "      <td>False</td>\n",
       "      <td>False</td>\n",
       "      <td>True</td>\n",
       "      <td>False</td>\n",
       "      <td>...</td>\n",
       "      <td>False</td>\n",
       "      <td>False</td>\n",
       "      <td>False</td>\n",
       "      <td>False</td>\n",
       "      <td>False</td>\n",
       "      <td>False</td>\n",
       "      <td>False</td>\n",
       "      <td>False</td>\n",
       "      <td>False</td>\n",
       "      <td>False</td>\n",
       "    </tr>\n",
       "    <tr>\n",
       "      <th>4</th>\n",
       "      <td>4.0</td>\n",
       "      <td>False</td>\n",
       "      <td>free</td>\n",
       "      <td>True</td>\n",
       "      <td>True</td>\n",
       "      <td>False</td>\n",
       "      <td>True</td>\n",
       "      <td>False</td>\n",
       "      <td>True</td>\n",
       "      <td>False</td>\n",
       "      <td>...</td>\n",
       "      <td>False</td>\n",
       "      <td>False</td>\n",
       "      <td>False</td>\n",
       "      <td>False</td>\n",
       "      <td>False</td>\n",
       "      <td>False</td>\n",
       "      <td>False</td>\n",
       "      <td>False</td>\n",
       "      <td>False</td>\n",
       "      <td>False</td>\n",
       "    </tr>\n",
       "    <tr>\n",
       "      <th>...</th>\n",
       "      <td>...</td>\n",
       "      <td>...</td>\n",
       "      <td>...</td>\n",
       "      <td>...</td>\n",
       "      <td>...</td>\n",
       "      <td>...</td>\n",
       "      <td>...</td>\n",
       "      <td>...</td>\n",
       "      <td>...</td>\n",
       "      <td>...</td>\n",
       "      <td>...</td>\n",
       "      <td>...</td>\n",
       "      <td>...</td>\n",
       "      <td>...</td>\n",
       "      <td>...</td>\n",
       "      <td>...</td>\n",
       "      <td>...</td>\n",
       "      <td>...</td>\n",
       "      <td>...</td>\n",
       "      <td>...</td>\n",
       "      <td>...</td>\n",
       "    </tr>\n",
       "    <tr>\n",
       "      <th>50726</th>\n",
       "      <td>3.0</td>\n",
       "      <td>False</td>\n",
       "      <td>False</td>\n",
       "      <td>False</td>\n",
       "      <td>True</td>\n",
       "      <td>False</td>\n",
       "      <td>False</td>\n",
       "      <td>False</td>\n",
       "      <td>False</td>\n",
       "      <td>False</td>\n",
       "      <td>...</td>\n",
       "      <td>False</td>\n",
       "      <td>False</td>\n",
       "      <td>False</td>\n",
       "      <td>False</td>\n",
       "      <td>False</td>\n",
       "      <td>False</td>\n",
       "      <td>False</td>\n",
       "      <td>False</td>\n",
       "      <td>False</td>\n",
       "      <td>False</td>\n",
       "    </tr>\n",
       "    <tr>\n",
       "      <th>50727</th>\n",
       "      <td>3.5</td>\n",
       "      <td>True</td>\n",
       "      <td>free</td>\n",
       "      <td>True</td>\n",
       "      <td>True</td>\n",
       "      <td>True</td>\n",
       "      <td>True</td>\n",
       "      <td>False</td>\n",
       "      <td>True</td>\n",
       "      <td>True</td>\n",
       "      <td>...</td>\n",
       "      <td>False</td>\n",
       "      <td>False</td>\n",
       "      <td>False</td>\n",
       "      <td>False</td>\n",
       "      <td>False</td>\n",
       "      <td>False</td>\n",
       "      <td>False</td>\n",
       "      <td>False</td>\n",
       "      <td>False</td>\n",
       "      <td>False</td>\n",
       "    </tr>\n",
       "    <tr>\n",
       "      <th>50728</th>\n",
       "      <td>3.5</td>\n",
       "      <td>False</td>\n",
       "      <td>False</td>\n",
       "      <td>False</td>\n",
       "      <td>False</td>\n",
       "      <td>False</td>\n",
       "      <td>False</td>\n",
       "      <td>True</td>\n",
       "      <td>False</td>\n",
       "      <td>True</td>\n",
       "      <td>...</td>\n",
       "      <td>False</td>\n",
       "      <td>False</td>\n",
       "      <td>False</td>\n",
       "      <td>False</td>\n",
       "      <td>False</td>\n",
       "      <td>False</td>\n",
       "      <td>False</td>\n",
       "      <td>False</td>\n",
       "      <td>False</td>\n",
       "      <td>False</td>\n",
       "    </tr>\n",
       "    <tr>\n",
       "      <th>50729</th>\n",
       "      <td>3.5</td>\n",
       "      <td>False</td>\n",
       "      <td>False</td>\n",
       "      <td>False</td>\n",
       "      <td>False</td>\n",
       "      <td>False</td>\n",
       "      <td>False</td>\n",
       "      <td>False</td>\n",
       "      <td>False</td>\n",
       "      <td>False</td>\n",
       "      <td>...</td>\n",
       "      <td>False</td>\n",
       "      <td>False</td>\n",
       "      <td>False</td>\n",
       "      <td>False</td>\n",
       "      <td>False</td>\n",
       "      <td>False</td>\n",
       "      <td>False</td>\n",
       "      <td>False</td>\n",
       "      <td>False</td>\n",
       "      <td>False</td>\n",
       "    </tr>\n",
       "    <tr>\n",
       "      <th>50730</th>\n",
       "      <td>4.0</td>\n",
       "      <td>False</td>\n",
       "      <td>False</td>\n",
       "      <td>False</td>\n",
       "      <td>False</td>\n",
       "      <td>False</td>\n",
       "      <td>False</td>\n",
       "      <td>True</td>\n",
       "      <td>False</td>\n",
       "      <td>False</td>\n",
       "      <td>...</td>\n",
       "      <td>False</td>\n",
       "      <td>False</td>\n",
       "      <td>False</td>\n",
       "      <td>False</td>\n",
       "      <td>False</td>\n",
       "      <td>False</td>\n",
       "      <td>False</td>\n",
       "      <td>False</td>\n",
       "      <td>False</td>\n",
       "      <td>False</td>\n",
       "    </tr>\n",
       "  </tbody>\n",
       "</table>\n",
       "<p>50731 rows × 33 columns</p>\n",
       "</div>"
      ],
      "text/plain": [
       "       stars  attributes_RestaurantsTableService attributes_WiFi  \\\n",
       "0        4.5                               False           False   \n",
       "1        4.5                               False              no   \n",
       "2        2.5                               False            free   \n",
       "3        3.5                               False            free   \n",
       "4        4.0                               False            free   \n",
       "...      ...                                 ...             ...   \n",
       "50726    3.0                               False           False   \n",
       "50727    3.5                                True            free   \n",
       "50728    3.5                               False           False   \n",
       "50729    3.5                               False           False   \n",
       "50730    4.0                               False           False   \n",
       "\n",
       "       attributes_BikeParking  attributes_BusinessAcceptsCreditCards  \\\n",
       "0                        True                                   True   \n",
       "1                        True                                   True   \n",
       "2                        True                                   True   \n",
       "3                        True                                   True   \n",
       "4                        True                                   True   \n",
       "...                       ...                                    ...   \n",
       "50726                   False                                   True   \n",
       "50727                    True                                   True   \n",
       "50728                   False                                  False   \n",
       "50729                   False                                  False   \n",
       "50730                   False                                  False   \n",
       "\n",
       "       attributes_RestaurantsReservations  attributes_WheelchairAccessible  \\\n",
       "0                                   False                            False   \n",
       "1                                   False                             True   \n",
       "2                                   False                            False   \n",
       "3                                   False                            False   \n",
       "4                                   False                             True   \n",
       "...                                   ...                              ...   \n",
       "50726                               False                            False   \n",
       "50727                                True                             True   \n",
       "50728                               False                            False   \n",
       "50729                               False                            False   \n",
       "50730                               False                            False   \n",
       "\n",
       "       attributes_Caters  attributes_OutdoorSeating  \\\n",
       "0                   True                      False   \n",
       "1                   True                      False   \n",
       "2                   True                       True   \n",
       "3                  False                       True   \n",
       "4                  False                       True   \n",
       "...                  ...                        ...   \n",
       "50726              False                      False   \n",
       "50727              False                       True   \n",
       "50728               True                      False   \n",
       "50729              False                      False   \n",
       "50730               True                      False   \n",
       "\n",
       "       attributes_RestaurantsGoodForGroups  ...  attributes_GoodForDancing  \\\n",
       "0                                    False  ...                      False   \n",
       "1                                    False  ...                      False   \n",
       "2                                    False  ...                      False   \n",
       "3                                    False  ...                      False   \n",
       "4                                    False  ...                      False   \n",
       "...                                    ...  ...                        ...   \n",
       "50726                                False  ...                      False   \n",
       "50727                                 True  ...                      False   \n",
       "50728                                 True  ...                      False   \n",
       "50729                                False  ...                      False   \n",
       "50730                                False  ...                      False   \n",
       "\n",
       "       attributes_BYOB attributes_CoatCheck  attributes_Smoking  \\\n",
       "0                False                False               False   \n",
       "1                False                False               False   \n",
       "2                False                False               False   \n",
       "3                False                False               False   \n",
       "4                False                False               False   \n",
       "...                ...                  ...                 ...   \n",
       "50726            False                False               False   \n",
       "50727            False                False               False   \n",
       "50728            False                False               False   \n",
       "50729            False                False               False   \n",
       "50730            False                False               False   \n",
       "\n",
       "      attributes_DriveThru  attributes_BYOBCorkage  attributes_Corkage  \\\n",
       "0                    False                   False               False   \n",
       "1                    False                   False               False   \n",
       "2                    False                   False               False   \n",
       "3                    False                   False               False   \n",
       "4                    False                   False               False   \n",
       "...                    ...                     ...                 ...   \n",
       "50726                False                   False               False   \n",
       "50727                False                   False               False   \n",
       "50728                False                   False               False   \n",
       "50729                False                   False               False   \n",
       "50730                False                   False               False   \n",
       "\n",
       "      attributes_RestaurantsCounterService attributes_AgesAllowed  \\\n",
       "0                                    False                  False   \n",
       "1                                    False                  False   \n",
       "2                                    False                  False   \n",
       "3                                    False                  False   \n",
       "4                                    False                  False   \n",
       "...                                    ...                    ...   \n",
       "50726                                False                  False   \n",
       "50727                                False                  False   \n",
       "50728                                False                  False   \n",
       "50729                                False                  False   \n",
       "50730                                False                  False   \n",
       "\n",
       "       attributes_Open24Hours  \n",
       "0                       False  \n",
       "1                       False  \n",
       "2                       False  \n",
       "3                       False  \n",
       "4                       False  \n",
       "...                       ...  \n",
       "50726                   False  \n",
       "50727                   False  \n",
       "50728                   False  \n",
       "50729                   False  \n",
       "50730                   False  \n",
       "\n",
       "[50731 rows x 33 columns]"
      ]
     },
     "execution_count": 35,
     "metadata": {},
     "output_type": "execute_result"
    }
   ],
   "source": [
    "df3pd = df3.toPandas()\n",
    "df3pd"
   ]
  },
  {
   "cell_type": "code",
   "execution_count": 36,
   "id": "1e0e2b08",
   "metadata": {},
   "outputs": [
    {
     "data": {
      "image/png": "[encoded data removed]",
      "text/plain": [
       "<Figure size 432x288 with 1 Axes>"
      ]
     },
     "metadata": {
      "needs_background": "light"
     },
     "output_type": "display_data"
    }
   ],
   "source": [
    "ax = sns.violinplot(x=df3pd[\"attributes_WiFi\"], y=df3pd[\"stars\"])"
   ]
  },
  {
   "cell_type": "markdown",
   "id": "0440e98e",
   "metadata": {},
   "source": [
    "Looking at resturants attributes, we found out that some attributes is crutial and can have a big influence on the stars. For instance, restaurants which have free WIFI has a higher rating than others. resturants which is quient also has a very high ratings compared with others."
   ]
  },
  {
   "cell_type": "markdown",
   "id": "1c45891a",
   "metadata": {},
   "source": [
    "## Business_businessparking"
   ]
  },
  {
   "cell_type": "code",
   "execution_count": 37,
   "id": "db88576f",
   "metadata": {},
   "outputs": [],
   "source": [
    "df4 = df_r.select('business_id', 'name', 'stars').join(df_p, ['business_id'], \"inner\").drop('business_id', 'name')"
   ]
  },
  {
   "cell_type": "code",
   "execution_count": 38,
   "id": "468eac1d",
   "metadata": {
    "scrolled": true
   },
   "outputs": [
    {
     "name": "stdout",
     "output_type": "stream",
     "text": [
      "+-----+----------+\n",
      "|stars|avg(stars)|\n",
      "+-----+----------+\n",
      "|  3.5|       3.5|\n",
      "|  4.5|       4.5|\n",
      "|  2.5|       2.5|\n",
      "|  1.0|       1.0|\n",
      "|  4.0|       4.0|\n",
      "|  3.0|       3.0|\n",
      "|  2.0|       2.0|\n",
      "|  1.5|       1.5|\n",
      "|  5.0|       5.0|\n",
      "+-----+----------+\n",
      "\n",
      "+------+------------------+\n",
      "|garage|        avg(stars)|\n",
      "+------+------------------+\n",
      "|  true|3.6095551894563425|\n",
      "| false|3.5974381161346147|\n",
      "+------+------------------+\n",
      "\n",
      "+-----+------------------+\n",
      "|  lot|        avg(stars)|\n",
      "+-----+------------------+\n",
      "| true|3.5207968901846454|\n",
      "|false|3.7063926015930875|\n",
      "+-----+------------------+\n",
      "\n",
      "+------+-----------------+\n",
      "|street|       avg(stars)|\n",
      "+------+-----------------+\n",
      "|  true| 3.75276988224375|\n",
      "| false|3.451969154502892|\n",
      "+------+-----------------+\n",
      "\n",
      "+-----+------------------+\n",
      "|valet|        avg(stars)|\n",
      "+-----+------------------+\n",
      "| true|3.6387264457439894|\n",
      "|false|3.5966474671392703|\n",
      "+-----+------------------+\n",
      "\n",
      "+---------+-----------------+\n",
      "|validated|       avg(stars)|\n",
      "+---------+-----------------+\n",
      "|     true|3.697969543147208|\n",
      "|    false|3.596211639600069|\n",
      "+---------+-----------------+\n",
      "\n"
     ]
    }
   ],
   "source": [
    "for i in df4.columns:\n",
    "    df4.groupBy(i).agg(avg('stars')).show()"
   ]
  },
  {
   "cell_type": "code",
   "execution_count": 39,
   "id": "b3464731",
   "metadata": {},
   "outputs": [
    {
     "data": {
      "text/html": [
       "<div>\n",
       "<style scoped>\n",
       "    .dataframe tbody tr th:only-of-type {\n",
       "        vertical-align: middle;\n",
       "    }\n",
       "\n",
       "    .dataframe tbody tr th {\n",
       "        vertical-align: top;\n",
       "    }\n",
       "\n",
       "    .dataframe thead th {\n",
       "        text-align: right;\n",
       "    }\n",
       "</style>\n",
       "<table border=\"1\" class=\"dataframe\">\n",
       "  <thead>\n",
       "    <tr style=\"text-align: right;\">\n",
       "      <th></th>\n",
       "      <th>stars</th>\n",
       "      <th>garage</th>\n",
       "      <th>lot</th>\n",
       "      <th>street</th>\n",
       "      <th>valet</th>\n",
       "      <th>validated</th>\n",
       "    </tr>\n",
       "  </thead>\n",
       "  <tbody>\n",
       "    <tr>\n",
       "      <th>0</th>\n",
       "      <td>2.0</td>\n",
       "      <td>False</td>\n",
       "      <td>True</td>\n",
       "      <td>False</td>\n",
       "      <td>False</td>\n",
       "      <td>False</td>\n",
       "    </tr>\n",
       "    <tr>\n",
       "      <th>1</th>\n",
       "      <td>2.0</td>\n",
       "      <td>False</td>\n",
       "      <td>False</td>\n",
       "      <td>True</td>\n",
       "      <td>False</td>\n",
       "      <td>False</td>\n",
       "    </tr>\n",
       "    <tr>\n",
       "      <th>2</th>\n",
       "      <td>2.0</td>\n",
       "      <td>True</td>\n",
       "      <td>True</td>\n",
       "      <td>False</td>\n",
       "      <td>False</td>\n",
       "      <td>True</td>\n",
       "    </tr>\n",
       "    <tr>\n",
       "      <th>3</th>\n",
       "      <td>2.0</td>\n",
       "      <td>False</td>\n",
       "      <td>True</td>\n",
       "      <td>False</td>\n",
       "      <td>False</td>\n",
       "      <td>False</td>\n",
       "    </tr>\n",
       "    <tr>\n",
       "      <th>4</th>\n",
       "      <td>2.0</td>\n",
       "      <td>False</td>\n",
       "      <td>False</td>\n",
       "      <td>True</td>\n",
       "      <td>False</td>\n",
       "      <td>False</td>\n",
       "    </tr>\n",
       "    <tr>\n",
       "      <th>...</th>\n",
       "      <td>...</td>\n",
       "      <td>...</td>\n",
       "      <td>...</td>\n",
       "      <td>...</td>\n",
       "      <td>...</td>\n",
       "      <td>...</td>\n",
       "    </tr>\n",
       "    <tr>\n",
       "      <th>35389</th>\n",
       "      <td>1.5</td>\n",
       "      <td>False</td>\n",
       "      <td>False</td>\n",
       "      <td>True</td>\n",
       "      <td>False</td>\n",
       "      <td>False</td>\n",
       "    </tr>\n",
       "    <tr>\n",
       "      <th>35390</th>\n",
       "      <td>1.5</td>\n",
       "      <td>False</td>\n",
       "      <td>True</td>\n",
       "      <td>False</td>\n",
       "      <td>False</td>\n",
       "      <td>False</td>\n",
       "    </tr>\n",
       "    <tr>\n",
       "      <th>35391</th>\n",
       "      <td>1.5</td>\n",
       "      <td>False</td>\n",
       "      <td>True</td>\n",
       "      <td>False</td>\n",
       "      <td>False</td>\n",
       "      <td>False</td>\n",
       "    </tr>\n",
       "    <tr>\n",
       "      <th>35392</th>\n",
       "      <td>1.5</td>\n",
       "      <td>False</td>\n",
       "      <td>False</td>\n",
       "      <td>True</td>\n",
       "      <td>False</td>\n",
       "      <td>False</td>\n",
       "    </tr>\n",
       "    <tr>\n",
       "      <th>35393</th>\n",
       "      <td>1.5</td>\n",
       "      <td>False</td>\n",
       "      <td>True</td>\n",
       "      <td>False</td>\n",
       "      <td>False</td>\n",
       "      <td>False</td>\n",
       "    </tr>\n",
       "  </tbody>\n",
       "</table>\n",
       "<p>35394 rows × 6 columns</p>\n",
       "</div>"
      ],
      "text/plain": [
       "       stars  garage    lot  street  valet  validated\n",
       "0        2.0   False   True   False  False      False\n",
       "1        2.0   False  False    True  False      False\n",
       "2        2.0    True   True   False  False       True\n",
       "3        2.0   False   True   False  False      False\n",
       "4        2.0   False  False    True  False      False\n",
       "...      ...     ...    ...     ...    ...        ...\n",
       "35389    1.5   False  False    True  False      False\n",
       "35390    1.5   False   True   False  False      False\n",
       "35391    1.5   False   True   False  False      False\n",
       "35392    1.5   False  False    True  False      False\n",
       "35393    1.5   False   True   False  False      False\n",
       "\n",
       "[35394 rows x 6 columns]"
      ]
     },
     "execution_count": 39,
     "metadata": {},
     "output_type": "execute_result"
    }
   ],
   "source": [
    "df4pd = df4.toPandas()\n",
    "df4pd"
   ]
  },
  {
   "cell_type": "code",
   "execution_count": 40,
   "id": "44064832",
   "metadata": {},
   "outputs": [
    {
     "data": {
      "image/png": "[encoded data removed]",
      "text/plain": [
       "<Figure size 432x288 with 1 Axes>"
      ]
     },
     "metadata": {
      "needs_background": "light"
     },
     "output_type": "display_data"
    }
   ],
   "source": [
    "ax = sns.violinplot(x=df4pd[\"valet\"], y=df4pd[\"stars\"])"
   ]
  },
  {
   "cell_type": "markdown",
   "id": "79178814",
   "metadata": {},
   "source": [
    "Interestingly, having a lot or having a valet has a negetice correlation in stars.However, if a restaurant have valet service, its stars are higher. This is maybe becasue restaurants which have valet are usually high-end."
   ]
  },
  {
   "cell_type": "markdown",
   "id": "17af8a82",
   "metadata": {},
   "source": [
    "## Users"
   ]
  },
  {
   "cell_type": "code",
   "execution_count": 41,
   "id": "6fad5913",
   "metadata": {},
   "outputs": [
    {
     "name": "stderr",
     "output_type": "stream",
     "text": [
      "                                                                                \r"
     ]
    },
    {
     "data": {
      "text/html": [
       "<div>\n",
       "<style scoped>\n",
       "    .dataframe tbody tr th:only-of-type {\n",
       "        vertical-align: middle;\n",
       "    }\n",
       "\n",
       "    .dataframe tbody tr th {\n",
       "        vertical-align: top;\n",
       "    }\n",
       "\n",
       "    .dataframe thead th {\n",
       "        text-align: right;\n",
       "    }\n",
       "</style>\n",
       "<table border=\"1\" class=\"dataframe\">\n",
       "  <thead>\n",
       "    <tr style=\"text-align: right;\">\n",
       "      <th></th>\n",
       "      <th>average_stars</th>\n",
       "      <th>compliment_cool</th>\n",
       "      <th>compliment_cute</th>\n",
       "      <th>compliment_funny</th>\n",
       "      <th>compliment_hot</th>\n",
       "      <th>compliment_list</th>\n",
       "      <th>compliment_more</th>\n",
       "      <th>compliment_note</th>\n",
       "      <th>compliment_photos</th>\n",
       "      <th>compliment_plain</th>\n",
       "      <th>...</th>\n",
       "      <th>cool</th>\n",
       "      <th>elite</th>\n",
       "      <th>fans</th>\n",
       "      <th>friends</th>\n",
       "      <th>funny</th>\n",
       "      <th>name</th>\n",
       "      <th>review_count</th>\n",
       "      <th>useful</th>\n",
       "      <th>user_id</th>\n",
       "      <th>yelping_since</th>\n",
       "    </tr>\n",
       "  </thead>\n",
       "  <tbody>\n",
       "    <tr>\n",
       "      <th>0</th>\n",
       "      <td>3.91</td>\n",
       "      <td>962</td>\n",
       "      <td>12</td>\n",
       "      <td>962</td>\n",
       "      <td>413</td>\n",
       "      <td>18</td>\n",
       "      <td>39</td>\n",
       "      <td>309</td>\n",
       "      <td>715</td>\n",
       "      <td>570</td>\n",
       "      <td>...</td>\n",
       "      <td>11372</td>\n",
       "      <td>2011,2012,2013</td>\n",
       "      <td>1308</td>\n",
       "      <td>DfV7pgamJkE5DUsyD0yk1Q, 1_3wNEACntoy8o0XMQAQXg...</td>\n",
       "      <td>6778</td>\n",
       "      <td>Andy</td>\n",
       "      <td>1540</td>\n",
       "      <td>13712</td>\n",
       "      <td>IDVFG1pNSHIHoVuoLuZpcQ</td>\n",
       "      <td>2008-01-02 01:21:36</td>\n",
       "    </tr>\n",
       "    <tr>\n",
       "      <th>1</th>\n",
       "      <td>4.40</td>\n",
       "      <td>1018</td>\n",
       "      <td>13</td>\n",
       "      <td>1018</td>\n",
       "      <td>325</td>\n",
       "      <td>1</td>\n",
       "      <td>34</td>\n",
       "      <td>347</td>\n",
       "      <td>341</td>\n",
       "      <td>3173</td>\n",
       "      <td>...</td>\n",
       "      <td>17113</td>\n",
       "      <td>2016,2017,2018,2019,20,20</td>\n",
       "      <td>2339</td>\n",
       "      <td>5Jrl4Ye_bj6Tvwaba5hVLA, UYlpVLWL_vpzWu0RaIjyCw...</td>\n",
       "      <td>8473</td>\n",
       "      <td>Megan</td>\n",
       "      <td>950</td>\n",
       "      <td>21663</td>\n",
       "      <td>lt7bNHl-TXziny4FETu8nA</td>\n",
       "      <td>2015-06-18 04:19:47</td>\n",
       "    </tr>\n",
       "    <tr>\n",
       "      <th>2</th>\n",
       "      <td>4.37</td>\n",
       "      <td>673</td>\n",
       "      <td>13</td>\n",
       "      <td>673</td>\n",
       "      <td>298</td>\n",
       "      <td>3</td>\n",
       "      <td>26</td>\n",
       "      <td>430</td>\n",
       "      <td>266</td>\n",
       "      <td>2858</td>\n",
       "      <td>...</td>\n",
       "      <td>12959</td>\n",
       "      <td>2014,2015,2016,2017,2018,2019,20,20</td>\n",
       "      <td>1360</td>\n",
       "      <td>qMRqP6NsrSMu8xvEGC8Dsw, 9AntnfiqApb6OM8QZ7-IIg...</td>\n",
       "      <td>5739</td>\n",
       "      <td>Andi</td>\n",
       "      <td>989</td>\n",
       "      <td>17505</td>\n",
       "      <td>hdzTAN8DGJKRddkZ8279JQ</td>\n",
       "      <td>NaT</td>\n",
       "    </tr>\n",
       "    <tr>\n",
       "      <th>3</th>\n",
       "      <td>3.54</td>\n",
       "      <td>6304</td>\n",
       "      <td>135</td>\n",
       "      <td>6304</td>\n",
       "      <td>3125</td>\n",
       "      <td>224</td>\n",
       "      <td>370</td>\n",
       "      <td>3546</td>\n",
       "      <td>647</td>\n",
       "      <td>14702</td>\n",
       "      <td>...</td>\n",
       "      <td>19762</td>\n",
       "      <td>2007,2008,2009,2010,2011,2012,2013,2014,2015,2...</td>\n",
       "      <td>1850</td>\n",
       "      <td>iApZ4uEn_gG5yOGvWK0gjg, azupW8UYwIzcFGchoEz-Dg...</td>\n",
       "      <td>12245</td>\n",
       "      <td>Jando</td>\n",
       "      <td>4004</td>\n",
       "      <td>27187</td>\n",
       "      <td>ysCBsXWPB-LAiewVS3jZfQ</td>\n",
       "      <td>2006-11-08 07:31:36</td>\n",
       "    </tr>\n",
       "    <tr>\n",
       "      <th>4</th>\n",
       "      <td>3.86</td>\n",
       "      <td>1410</td>\n",
       "      <td>102</td>\n",
       "      <td>1410</td>\n",
       "      <td>864</td>\n",
       "      <td>89</td>\n",
       "      <td>90</td>\n",
       "      <td>1022</td>\n",
       "      <td>248</td>\n",
       "      <td>3380</td>\n",
       "      <td>...</td>\n",
       "      <td>10621</td>\n",
       "      <td>2007,2008,2009,2010,2011,2012,2013,2014,2015,2...</td>\n",
       "      <td>1031</td>\n",
       "      <td>k8fGyKKTQcMsVGR762YhKw, Ll_KV5XgfIuDxSRtcndCwA...</td>\n",
       "      <td>12544</td>\n",
       "      <td>Damien</td>\n",
       "      <td>1989</td>\n",
       "      <td>14766</td>\n",
       "      <td>rcU7ysY41qGppbw4pQgjqg</td>\n",
       "      <td>2007-06-30 00:28:20</td>\n",
       "    </tr>\n",
       "    <tr>\n",
       "      <th>...</th>\n",
       "      <td>...</td>\n",
       "      <td>...</td>\n",
       "      <td>...</td>\n",
       "      <td>...</td>\n",
       "      <td>...</td>\n",
       "      <td>...</td>\n",
       "      <td>...</td>\n",
       "      <td>...</td>\n",
       "      <td>...</td>\n",
       "      <td>...</td>\n",
       "      <td>...</td>\n",
       "      <td>...</td>\n",
       "      <td>...</td>\n",
       "      <td>...</td>\n",
       "      <td>...</td>\n",
       "      <td>...</td>\n",
       "      <td>...</td>\n",
       "      <td>...</td>\n",
       "      <td>...</td>\n",
       "      <td>...</td>\n",
       "      <td>...</td>\n",
       "    </tr>\n",
       "    <tr>\n",
       "      <th>68</th>\n",
       "      <td>4.11</td>\n",
       "      <td>968</td>\n",
       "      <td>1</td>\n",
       "      <td>968</td>\n",
       "      <td>383</td>\n",
       "      <td>1</td>\n",
       "      <td>54</td>\n",
       "      <td>511</td>\n",
       "      <td>880</td>\n",
       "      <td>1071</td>\n",
       "      <td>...</td>\n",
       "      <td>21952</td>\n",
       "      <td>2018,2019,20,20</td>\n",
       "      <td>1369</td>\n",
       "      <td>Xjvkq4MYfckpLYyPT0LcgA, 2XTxprGOFYWT7E5U4QUqCw...</td>\n",
       "      <td>9238</td>\n",
       "      <td>Sama</td>\n",
       "      <td>417</td>\n",
       "      <td>26288</td>\n",
       "      <td>8I7DLn7dPu76HQImdoqzQg</td>\n",
       "      <td>2015-12-07 03:49:34</td>\n",
       "    </tr>\n",
       "    <tr>\n",
       "      <th>69</th>\n",
       "      <td>3.77</td>\n",
       "      <td>24078</td>\n",
       "      <td>1414</td>\n",
       "      <td>24078</td>\n",
       "      <td>25304</td>\n",
       "      <td>429</td>\n",
       "      <td>2630</td>\n",
       "      <td>9622</td>\n",
       "      <td>45971</td>\n",
       "      <td>15336</td>\n",
       "      <td>...</td>\n",
       "      <td>103393</td>\n",
       "      <td>2010,2011,2012,2013,2014,2015,2016,2017,2018,2...</td>\n",
       "      <td>3326</td>\n",
       "      <td>sPk1JlWVFj1ZUiKABZSPdQ, TLnwWc0TS4N5t1vH60vueA...</td>\n",
       "      <td>96361</td>\n",
       "      <td>Cherylynn</td>\n",
       "      <td>2676</td>\n",
       "      <td>119725</td>\n",
       "      <td>eKUGKQRE-Ywi5dY55_zChg</td>\n",
       "      <td>2008-01-20 06:27:03</td>\n",
       "    </tr>\n",
       "    <tr>\n",
       "      <th>70</th>\n",
       "      <td>4.02</td>\n",
       "      <td>4522</td>\n",
       "      <td>721</td>\n",
       "      <td>4522</td>\n",
       "      <td>3841</td>\n",
       "      <td>251</td>\n",
       "      <td>318</td>\n",
       "      <td>2724</td>\n",
       "      <td>529</td>\n",
       "      <td>7573</td>\n",
       "      <td>...</td>\n",
       "      <td>24690</td>\n",
       "      <td>2007,2008,2009,2010,2011,2012,2013,2014,2015,2...</td>\n",
       "      <td>1101</td>\n",
       "      <td>GmcThitQOQF-8xo1nC03VQ, AwDQ4MDJEowPQaSfKx_xsw...</td>\n",
       "      <td>21354</td>\n",
       "      <td>Colleen</td>\n",
       "      <td>2775</td>\n",
       "      <td>33772</td>\n",
       "      <td>5MCBLBxr10NLUKZ4AboAMg</td>\n",
       "      <td>NaT</td>\n",
       "    </tr>\n",
       "    <tr>\n",
       "      <th>71</th>\n",
       "      <td>4.39</td>\n",
       "      <td>1381</td>\n",
       "      <td>17</td>\n",
       "      <td>1381</td>\n",
       "      <td>420</td>\n",
       "      <td>8</td>\n",
       "      <td>74</td>\n",
       "      <td>1397</td>\n",
       "      <td>380</td>\n",
       "      <td>6341</td>\n",
       "      <td>...</td>\n",
       "      <td>15551</td>\n",
       "      <td>2013,2014,2015,2016,2017,2018,2019,20,20</td>\n",
       "      <td>1061</td>\n",
       "      <td>icieSv0plXyXFHU15zYEQA, Dzuc8jWCQit4MoBMOrEpYQ...</td>\n",
       "      <td>5903</td>\n",
       "      <td>Michael</td>\n",
       "      <td>1044</td>\n",
       "      <td>20420</td>\n",
       "      <td>vHc-UrI9yfL_pnnc6nJtyQ</td>\n",
       "      <td>NaT</td>\n",
       "    </tr>\n",
       "    <tr>\n",
       "      <th>72</th>\n",
       "      <td>4.06</td>\n",
       "      <td>986</td>\n",
       "      <td>43</td>\n",
       "      <td>986</td>\n",
       "      <td>843</td>\n",
       "      <td>55</td>\n",
       "      <td>128</td>\n",
       "      <td>537</td>\n",
       "      <td>791</td>\n",
       "      <td>2684</td>\n",
       "      <td>...</td>\n",
       "      <td>16863</td>\n",
       "      <td>2006,2007,2008,2014,2015,2016,2017,2018,2019,2...</td>\n",
       "      <td>1219</td>\n",
       "      <td>XE56JWkXyzInTy27cPdYSw, r9CjKnZ2959KI5mZLcGp9w...</td>\n",
       "      <td>8775</td>\n",
       "      <td>トモ</td>\n",
       "      <td>1897</td>\n",
       "      <td>22685</td>\n",
       "      <td>H7I6AKkYu-1jemA5cEVu4w</td>\n",
       "      <td>2005-11-02 03:29:47</td>\n",
       "    </tr>\n",
       "  </tbody>\n",
       "</table>\n",
       "<p>73 rows × 22 columns</p>\n",
       "</div>"
      ],
      "text/plain": [
       "    average_stars  compliment_cool  compliment_cute  compliment_funny  \\\n",
       "0            3.91              962               12               962   \n",
       "1            4.40             1018               13              1018   \n",
       "2            4.37              673               13               673   \n",
       "3            3.54             6304              135              6304   \n",
       "4            3.86             1410              102              1410   \n",
       "..            ...              ...              ...               ...   \n",
       "68           4.11              968                1               968   \n",
       "69           3.77            24078             1414             24078   \n",
       "70           4.02             4522              721              4522   \n",
       "71           4.39             1381               17              1381   \n",
       "72           4.06              986               43               986   \n",
       "\n",
       "    compliment_hot  compliment_list  compliment_more  compliment_note  \\\n",
       "0              413               18               39              309   \n",
       "1              325                1               34              347   \n",
       "2              298                3               26              430   \n",
       "3             3125              224              370             3546   \n",
       "4              864               89               90             1022   \n",
       "..             ...              ...              ...              ...   \n",
       "68             383                1               54              511   \n",
       "69           25304              429             2630             9622   \n",
       "70            3841              251              318             2724   \n",
       "71             420                8               74             1397   \n",
       "72             843               55              128              537   \n",
       "\n",
       "    compliment_photos  compliment_plain  ...    cool  \\\n",
       "0                 715               570  ...   11372   \n",
       "1                 341              3173  ...   17113   \n",
       "2                 266              2858  ...   12959   \n",
       "3                 647             14702  ...   19762   \n",
       "4                 248              3380  ...   10621   \n",
       "..                ...               ...  ...     ...   \n",
       "68                880              1071  ...   21952   \n",
       "69              45971             15336  ...  103393   \n",
       "70                529              7573  ...   24690   \n",
       "71                380              6341  ...   15551   \n",
       "72                791              2684  ...   16863   \n",
       "\n",
       "                                                elite  fans  \\\n",
       "0                                      2011,2012,2013  1308   \n",
       "1                           2016,2017,2018,2019,20,20  2339   \n",
       "2                 2014,2015,2016,2017,2018,2019,20,20  1360   \n",
       "3   2007,2008,2009,2010,2011,2012,2013,2014,2015,2...  1850   \n",
       "4   2007,2008,2009,2010,2011,2012,2013,2014,2015,2...  1031   \n",
       "..                                                ...   ...   \n",
       "68                                    2018,2019,20,20  1369   \n",
       "69  2010,2011,2012,2013,2014,2015,2016,2017,2018,2...  3326   \n",
       "70  2007,2008,2009,2010,2011,2012,2013,2014,2015,2...  1101   \n",
       "71           2013,2014,2015,2016,2017,2018,2019,20,20  1061   \n",
       "72  2006,2007,2008,2014,2015,2016,2017,2018,2019,2...  1219   \n",
       "\n",
       "                                              friends  funny       name  \\\n",
       "0   DfV7pgamJkE5DUsyD0yk1Q, 1_3wNEACntoy8o0XMQAQXg...   6778       Andy   \n",
       "1   5Jrl4Ye_bj6Tvwaba5hVLA, UYlpVLWL_vpzWu0RaIjyCw...   8473      Megan   \n",
       "2   qMRqP6NsrSMu8xvEGC8Dsw, 9AntnfiqApb6OM8QZ7-IIg...   5739       Andi   \n",
       "3   iApZ4uEn_gG5yOGvWK0gjg, azupW8UYwIzcFGchoEz-Dg...  12245      Jando   \n",
       "4   k8fGyKKTQcMsVGR762YhKw, Ll_KV5XgfIuDxSRtcndCwA...  12544     Damien   \n",
       "..                                                ...    ...        ...   \n",
       "68  Xjvkq4MYfckpLYyPT0LcgA, 2XTxprGOFYWT7E5U4QUqCw...   9238       Sama   \n",
       "69  sPk1JlWVFj1ZUiKABZSPdQ, TLnwWc0TS4N5t1vH60vueA...  96361  Cherylynn   \n",
       "70  GmcThitQOQF-8xo1nC03VQ, AwDQ4MDJEowPQaSfKx_xsw...  21354    Colleen   \n",
       "71  icieSv0plXyXFHU15zYEQA, Dzuc8jWCQit4MoBMOrEpYQ...   5903    Michael   \n",
       "72  XE56JWkXyzInTy27cPdYSw, r9CjKnZ2959KI5mZLcGp9w...   8775         トモ   \n",
       "\n",
       "    review_count  useful                 user_id       yelping_since  \n",
       "0           1540   13712  IDVFG1pNSHIHoVuoLuZpcQ 2008-01-02 01:21:36  \n",
       "1            950   21663  lt7bNHl-TXziny4FETu8nA 2015-06-18 04:19:47  \n",
       "2            989   17505  hdzTAN8DGJKRddkZ8279JQ                 NaT  \n",
       "3           4004   27187  ysCBsXWPB-LAiewVS3jZfQ 2006-11-08 07:31:36  \n",
       "4           1989   14766  rcU7ysY41qGppbw4pQgjqg 2007-06-30 00:28:20  \n",
       "..           ...     ...                     ...                 ...  \n",
       "68           417   26288  8I7DLn7dPu76HQImdoqzQg 2015-12-07 03:49:34  \n",
       "69          2676  119725  eKUGKQRE-Ywi5dY55_zChg 2008-01-20 06:27:03  \n",
       "70          2775   33772  5MCBLBxr10NLUKZ4AboAMg                 NaT  \n",
       "71          1044   20420  vHc-UrI9yfL_pnnc6nJtyQ                 NaT  \n",
       "72          1897   22685  H7I6AKkYu-1jemA5cEVu4w 2005-11-02 03:29:47  \n",
       "\n",
       "[73 rows x 22 columns]"
      ]
     },
     "execution_count": 41,
     "metadata": {},
     "output_type": "execute_result"
    }
   ],
   "source": [
    "# Users who have more than 1000 fans\n",
    "df_user.filter(df.fans >= 1000).toPandas()"
   ]
  },
  {
   "cell_type": "code",
   "execution_count": 42,
   "id": "2a9ae8b6",
   "metadata": {},
   "outputs": [
    {
     "name": "stderr",
     "output_type": "stream",
     "text": [
      "\r",
      "[Stage 167:======================================>                  (4 + 2) / 6]\r",
      "\r",
      "                                                                                \r"
     ]
    },
    {
     "data": {
      "text/plain": [
       "<seaborn.axisgrid.FacetGrid at 0x7f1b080eeee0>"
      ]
     },
     "execution_count": 42,
     "metadata": {},
     "output_type": "execute_result"
    },
    {
     "data": {
      "image/png": "[encoded data removed]",
      "text/plain": [
       "<Figure size 360x360 with 1 Axes>"
      ]
     },
     "metadata": {
      "needs_background": "light"
     },
     "output_type": "display_data"
    }
   ],
   "source": [
    "# show the bar graph of users given stars\n",
    "dfp = df.select('average_stars').toPandas()\n",
    "sns.displot(dfp, x=\"average_stars\")"
   ]
  },
  {
   "cell_type": "markdown",
   "id": "aa3640ed",
   "metadata": {},
   "source": [
    "From the graph above, we can see two obvious bar which is 5.0 and 1.0. It means that a lot of users like to give extreme scores if they like/dislike a restaurant."
   ]
  },
  {
   "cell_type": "code",
   "execution_count": 43,
   "id": "651c5983",
   "metadata": {},
   "outputs": [
    {
     "name": "stderr",
     "output_type": "stream",
     "text": [
      "[Stage 168:===============================================>         (5 + 1) / 6]\r"
     ]
    },
    {
     "name": "stdout",
     "output_type": "stream",
     "text": [
      "+-------------+---------------+---------------+----------------+--------------+---------------+---------------+---------------+-----------------+----------------+------------------+-----------------+----+-----+----+--------------------+-----+-------+------------+------+--------------------+-------------------+\n",
      "|average_stars|compliment_cool|compliment_cute|compliment_funny|compliment_hot|compliment_list|compliment_more|compliment_note|compliment_photos|compliment_plain|compliment_profile|compliment_writer|cool|elite|fans|             friends|funny|   name|review_count|useful|             user_id|      yelping_since|\n",
      "+-------------+---------------+---------------+----------------+--------------+---------------+---------------+---------------+-----------------+----------------+------------------+-----------------+----+-----+----+--------------------+-----+-------+------------+------+--------------------+-------------------+\n",
      "|          1.0|              0|              0|               0|             0|              0|              1|              0|                0|               0|                 0|                0|   0|     |   0|dSl44lru0aeYZLdnv...|    0|Michael|           1|     0|dqFUf-b_0tme_WcAe...|2017-02-22 03:32:24|\n",
      "|          1.0|              0|              0|               0|             0|              0|              0|              0|                0|               0|                 0|                0|   1|     |   0|xwqsbc0rvThKGVEMj...|    1|Roxanna|           1|     1|4WscpkJ7t3-WD1v8c...|2014-11-18 01:00:59|\n",
      "|          1.0|              0|              0|               0|             0|              0|              0|              0|                0|               0|                 0|                0|   0|     |   0|i1Y1kRU0U6SPp1J6z...|    0|Gaynell|           1|     0|kkOESzxdIewHZHMfC...|               null|\n",
      "+-------------+---------------+---------------+----------------+--------------+---------------+---------------+---------------+-----------------+----------------+------------------+-----------------+----+-----+----+--------------------+-----+-------+------------+------+--------------------+-------------------+\n",
      "only showing top 3 rows\n",
      "\n"
     ]
    },
    {
     "name": "stderr",
     "output_type": "stream",
     "text": [
      "\r",
      "                                                                                \r"
     ]
    }
   ],
   "source": [
    "# users who give bad reviews\n",
    "df_user.filter(df.average_stars <= 3).orderBy([\"average_stars\"], ascending=[1]).show(3)"
   ]
  },
  {
   "cell_type": "code",
   "execution_count": 44,
   "id": "88524d1b",
   "metadata": {},
   "outputs": [],
   "source": [
    "df_user = df_user.withColumn('year', year(df_user['yelping_since']))\n",
    "df_user = df_user.withColumn('month', month(df_user['yelping_since']))"
   ]
  },
  {
   "cell_type": "code",
   "execution_count": 45,
   "id": "b9c723af",
   "metadata": {},
   "outputs": [
    {
     "name": "stderr",
     "output_type": "stream",
     "text": [
      "                                                                                \r"
     ]
    },
    {
     "data": {
      "text/plain": [
       "<AxesSubplot:xlabel='month'>"
      ]
     },
     "execution_count": 45,
     "metadata": {},
     "output_type": "execute_result"
    },
    {
     "data": {
      "image/png": "[encoded data removed]",
      "text/plain": [
       "<Figure size 864x288 with 1 Axes>"
      ]
     },
     "metadata": {
      "needs_background": "light"
     },
     "output_type": "display_data"
    }
   ],
   "source": [
    "# monthly time series line chart of new users since 2015\n",
    "df3c = df_user.filter(df_user.year >= 2015).groupBy('year', 'month').count().orderBy([\"year\", \"month\"], ascending=[0, 0])\n",
    "pdf = df3c.toPandas()\n",
    "pdf = pdf.pivot(index='month', columns='year', values='count')\n",
    "pdf.plot(figsize=(12,4))\n"
   ]
  },
  {
   "cell_type": "markdown",
   "id": "efb0a068",
   "metadata": {},
   "source": [
    "From the graph, we can see that the number of new users declinces each year. This is a potential business problem for Yelp. Yelp may need to develop strategy to attract more users."
   ]
  },
  {
   "cell_type": "markdown",
   "id": "e172f2e2",
   "metadata": {},
   "source": [
    "## Covid"
   ]
  },
  {
   "cell_type": "code",
   "execution_count": 46,
   "id": "b0862d1e",
   "metadata": {},
   "outputs": [
    {
     "name": "stderr",
     "output_type": "stream",
     "text": [
      "                                                                                \r"
     ]
    }
   ],
   "source": [
    "df_pdf = df_c.toPandas()"
   ]
  },
  {
   "cell_type": "code",
   "execution_count": 47,
   "id": "6e4d89ac",
   "metadata": {},
   "outputs": [
    {
     "data": {
      "text/plain": [
       "<AxesSubplot:title={'center':'virtual_services_offered'}>"
      ]
     },
     "execution_count": 47,
     "metadata": {},
     "output_type": "execute_result"
    },
    {
     "data": {
      "image/png": "[encoded data removed]",
      "text/plain": [
       "<Figure size 1440x1440 with 8 Axes>"
      ]
     },
     "metadata": {
      "needs_background": "light"
     },
     "output_type": "display_data"
    }
   ],
   "source": [
    "# Set up a grid of plots\n",
    "fig = plt.figure(figsize=(20,20)) \n",
    "fig_dims = (4, 2)\n",
    "\n",
    "# Plot accidents depending on type\n",
    "plt.subplot2grid(fig_dims, (0, 0))\n",
    "df_pdf['highlights'].value_counts().plot(kind='bar', \n",
    "                                     title='highlights')\n",
    "plt.subplot2grid(fig_dims, (0, 1))\n",
    "df_pdf['delivery_or_takeout'].value_counts().plot(kind='bar', \n",
    "                                     title='delivery_or_takeout')\n",
    "plt.subplot2grid(fig_dims, (1, 0))\n",
    "df_pdf['grubhub_enabled'].value_counts().plot(kind='bar', \n",
    "                                     title='grubhub_enabled')\n",
    "plt.subplot2grid(fig_dims, (1, 1))\n",
    "df_pdf['call_to_action_enabled'].value_counts().plot(kind='bar', \n",
    "                                     title='call_to_action_enabled')\n",
    "\n",
    "plt.subplot2grid(fig_dims, (2, 0))\n",
    "df_pdf['request_a_quote_enabled'].value_counts().plot(kind='bar', \n",
    "                                     title='request_a_quote_enabled')\n",
    "\n",
    "plt.subplot2grid(fig_dims, (2, 1))\n",
    "df_pdf['covid_banner'].value_counts().plot(kind='bar', \n",
    "                                     title='covid_banner')\n",
    "\n",
    "plt.subplot2grid(fig_dims, (3, 0))\n",
    "df_pdf['temporary_closed_until'].value_counts().plot(kind='bar', \n",
    "                                     title='temporary_closed_until')\n",
    "\n",
    "plt.subplot2grid(fig_dims, (3, 1))\n",
    "df_pdf['virtual_services_offered'].value_counts().plot(kind='bar', \n",
    "                                     title='virtual_services_offered')\n"
   ]
  },
  {
   "cell_type": "markdown",
   "id": "0287bded",
   "metadata": {},
   "source": [
    "Looks pretty imbalanced, more balance in delivery_or_takeout and call_to_action_enabled and some '1's in grubhub_enabled and highlights. Can drop temporary_closed_until, request_a_quote_enabled and virtual_services_offered as they are mostly 0."
   ]
  },
  {
   "cell_type": "code",
   "execution_count": 48,
   "id": "ef0a68b2",
   "metadata": {},
   "outputs": [
    {
     "data": {
      "text/plain": [
       "<AxesSubplot:xlabel='delivery_or_takeout', ylabel='count'>"
      ]
     },
     "execution_count": 48,
     "metadata": {},
     "output_type": "execute_result"
    },
    {
     "data": {
      "image/png": "[encoded data removed]",
      "text/plain": [
       "<Figure size 432x288 with 1 Axes>"
      ]
     },
     "metadata": {
      "needs_background": "light"
     },
     "output_type": "display_data"
    }
   ],
   "source": [
    "sns.countplot(x=\"delivery_or_takeout\", hue=\"grubhub_enabled\", data=df_pdf)"
   ]
  },
  {
   "cell_type": "markdown",
   "id": "1c9b695d",
   "metadata": {},
   "source": [
    "High correlation between delivery_or_takeout and grubhub_enabled: when there is no delivery_or_takeout option, there is barely any grubhub_enabled. On the contray, when there is delivery_or_takeout, there are some grubhub_enabled, with the business perhaps using other delivery apps as well."
   ]
  },
  {
   "cell_type": "code",
   "execution_count": 49,
   "id": "21155965",
   "metadata": {},
   "outputs": [
    {
     "data": {
      "text/plain": [
       "0.4290360525801788"
      ]
     },
     "execution_count": 49,
     "metadata": {},
     "output_type": "execute_result"
    }
   ],
   "source": [
    "from pyspark.ml import stat\n",
    "df_c.stat.corr(\"delivery_or_takeout\",\"grubhub_enabled\")"
   ]
  },
  {
   "cell_type": "code",
   "execution_count": 50,
   "id": "31119dc3",
   "metadata": {},
   "outputs": [
    {
     "data": {
      "text/plain": [
       "<AxesSubplot:xlabel='call_to_action_enabled', ylabel='count'>"
      ]
     },
     "execution_count": 50,
     "metadata": {},
     "output_type": "execute_result"
    },
    {
     "data": {
      "image/png": "[encoded data removed]",
      "text/plain": [
       "<Figure size 432x288 with 1 Axes>"
      ]
     },
     "metadata": {
      "needs_background": "light"
     },
     "output_type": "display_data"
    }
   ],
   "source": [
    "sns.countplot(x=\"call_to_action_enabled\", hue=\"highlights\", data=df_pdf)"
   ]
  },
  {
   "cell_type": "markdown",
   "id": "6e6897d4",
   "metadata": {},
   "source": [
    "Some correlation between highlights and call_to_action_enabled: If highlight (highlights during Covid such as curbside pick up present, drive thru present, etc) present, typically a CTA button is also present."
   ]
  },
  {
   "cell_type": "markdown",
   "id": "2264f893",
   "metadata": {},
   "source": [
    "## Reviews"
   ]
  },
  {
   "cell_type": "code",
   "execution_count": 51,
   "id": "2d47f109",
   "metadata": {},
   "outputs": [
    {
     "name": "stderr",
     "output_type": "stream",
     "text": [
      "                                                                                \r"
     ]
    },
    {
     "data": {
      "text/plain": [
       "<AxesSubplot:xlabel='year'>"
      ]
     },
     "execution_count": 51,
     "metadata": {},
     "output_type": "execute_result"
    },
    {
     "data": {
      "image/png": "[encoded data removed]",
      "text/plain": [
       "<Figure size 864x288 with 1 Axes>"
      ]
     },
     "metadata": {
      "needs_background": "light"
     },
     "output_type": "display_data"
    }
   ],
   "source": [
    "#Number of reviews per year, dramatic decrease in 2020\n",
    "pd_y = df_re.groupBy('year').count().orderBy('year', ascending = 1).toPandas()\n",
    "pd_y.plot.bar(x = 'year', y = 'count', figsize=(12,4))"
   ]
  },
  {
   "cell_type": "code",
   "execution_count": 52,
   "id": "7808a873",
   "metadata": {
    "scrolled": true
   },
   "outputs": [
    {
     "name": "stderr",
     "output_type": "stream",
     "text": [
      "                                                                                \r"
     ]
    },
    {
     "data": {
      "text/plain": [
       "<AxesSubplot:xlabel='review_stars'>"
      ]
     },
     "execution_count": 52,
     "metadata": {},
     "output_type": "execute_result"
    },
    {
     "data": {
      "image/png": "[encoded data removed]",
      "text/plain": [
       "<Figure size 864x288 with 1 Axes>"
      ]
     },
     "metadata": {
      "needs_background": "light"
     },
     "output_type": "display_data"
    }
   ],
   "source": [
    "# Number of star reviews\n",
    "pd_st = df_re.groupBy('review_stars').count().orderBy('review_stars', ascending = 1).toPandas()\n",
    "pd_st.plot.bar(x = 'review_stars', y = 'count', figsize=(12,4))\n"
   ]
  },
  {
   "cell_type": "code",
   "execution_count": 53,
   "id": "1a8ea30f",
   "metadata": {},
   "outputs": [
    {
     "name": "stderr",
     "output_type": "stream",
     "text": [
      "                                                                                \r"
     ]
    },
    {
     "data": {
      "text/plain": [
       "<AxesSubplot:xlabel='hour'>"
      ]
     },
     "execution_count": 53,
     "metadata": {},
     "output_type": "execute_result"
    },
    {
     "data": {
      "image/png": "[encoded data removed]",
      "text/plain": [
       "<Figure size 864x288 with 1 Axes>"
      ]
     },
     "metadata": {
      "needs_background": "light"
     },
     "output_type": "display_data"
    }
   ],
   "source": [
    "# what time of the day do people usually leave reviews\n",
    "df_hour = df_re.groupby('hour').count().orderBy('count')\n",
    "df_hour.toPandas().plot.bar(x = 'hour', y = 'count', figsize=(12,4))"
   ]
  },
  {
   "cell_type": "code",
   "execution_count": 54,
   "id": "0e16dbda",
   "metadata": {},
   "outputs": [
    {
     "name": "stderr",
     "output_type": "stream",
     "text": [
      "                                                                                \r"
     ]
    },
    {
     "data": {
      "image/png": "[encoded data removed]",
      "text/plain": [
       "<Figure size 2016x1440 with 1 Axes>"
      ]
     },
     "metadata": {
      "needs_background": "light"
     },
     "output_type": "display_data"
    }
   ],
   "source": [
    "## Each year change of  1-5 stars count \n",
    "df_star_change = df_re.groupBy('year','review_stars').count().orderBy('year','review_stars',ascending = 0).toPandas()\n",
    "fig2, ax2 = plt.subplots(figsize=(28,20))\n",
    "#ax3=ax1.twinx()\n",
    "\n",
    "#sns.barplot(x='year', y='count', data=df_crime, hue='primary_type',ax=ax3)\n",
    "sns.lineplot(x='year', y='count', data=df_star_change, hue='review_stars',ax=ax2)\n",
    "plt.show()"
   ]
  },
  {
   "cell_type": "markdown",
   "id": "c55dd3bf",
   "metadata": {},
   "source": [
    "# Comprehensive EDA"
   ]
  },
  {
   "cell_type": "markdown",
   "id": "5a1b1042",
   "metadata": {},
   "source": [
    "### Figure out where is the user\n"
   ]
  },
  {
   "cell_type": "code",
   "execution_count": 56,
   "id": "f0367453",
   "metadata": {
    "scrolled": false
   },
   "outputs": [
    {
     "name": "stderr",
     "output_type": "stream",
     "text": [
      "                                                                                \r"
     ]
    },
    {
     "data": {
      "text/html": [
       "<div>\n",
       "<style scoped>\n",
       "    .dataframe tbody tr th:only-of-type {\n",
       "        vertical-align: middle;\n",
       "    }\n",
       "\n",
       "    .dataframe tbody tr th {\n",
       "        vertical-align: top;\n",
       "    }\n",
       "\n",
       "    .dataframe thead th {\n",
       "        text-align: right;\n",
       "    }\n",
       "</style>\n",
       "<table border=\"1\" class=\"dataframe\">\n",
       "  <thead>\n",
       "    <tr style=\"text-align: right;\">\n",
       "      <th></th>\n",
       "      <th>user_id</th>\n",
       "      <th>city</th>\n",
       "      <th>count</th>\n",
       "      <th>local</th>\n",
       "    </tr>\n",
       "  </thead>\n",
       "  <tbody>\n",
       "    <tr>\n",
       "      <th>0</th>\n",
       "      <td>---2PmXbF47D870stH1jqA</td>\n",
       "      <td>Smyrna</td>\n",
       "      <td>33.333333</td>\n",
       "      <td>False</td>\n",
       "    </tr>\n",
       "    <tr>\n",
       "      <th>1</th>\n",
       "      <td>---7FS-3SMy-cnnIPHcW9w</td>\n",
       "      <td>Boston</td>\n",
       "      <td>100.000000</td>\n",
       "      <td>True</td>\n",
       "    </tr>\n",
       "    <tr>\n",
       "      <th>2</th>\n",
       "      <td>---fQxo-9tYZAkyWYrSfdA</td>\n",
       "      <td>Lake Mary</td>\n",
       "      <td>100.000000</td>\n",
       "      <td>True</td>\n",
       "    </tr>\n",
       "    <tr>\n",
       "      <th>3</th>\n",
       "      <td>---r2Fuca3t1PT3oalARQQ</td>\n",
       "      <td>Austin</td>\n",
       "      <td>100.000000</td>\n",
       "      <td>True</td>\n",
       "    </tr>\n",
       "    <tr>\n",
       "      <th>4</th>\n",
       "      <td>---sEqd6eCGsnr8nOXrkDw</td>\n",
       "      <td>Orlando</td>\n",
       "      <td>100.000000</td>\n",
       "      <td>True</td>\n",
       "    </tr>\n",
       "  </tbody>\n",
       "</table>\n",
       "</div>"
      ],
      "text/plain": [
       "                  user_id       city       count  local\n",
       "0  ---2PmXbF47D870stH1jqA     Smyrna   33.333333  False\n",
       "1  ---7FS-3SMy-cnnIPHcW9w     Boston  100.000000   True\n",
       "2  ---fQxo-9tYZAkyWYrSfdA  Lake Mary  100.000000   True\n",
       "3  ---r2Fuca3t1PT3oalARQQ     Austin  100.000000   True\n",
       "4  ---sEqd6eCGsnr8nOXrkDw    Orlando  100.000000   True"
      ]
     },
     "execution_count": 56,
     "metadata": {},
     "output_type": "execute_result"
    }
   ],
   "source": [
    "# Figure out where is the user\n",
    "\n",
    "review_business_user_city = df_re.select('business_id', 'user_id')\n",
    "business_city = df_r.select('business_id', 'city')\n",
    "\n",
    "user_city_spark = review_business_user_city.join(business_city, [\"business_id\"], 'left')\n",
    "user_city_df = user_city_spark.groupby('user_id', 'city').count().toPandas()\n",
    "user_city_group = user_city_df.groupby(['user_id', 'city'])\n",
    "user_city = 100 * user_city_group.sum() / user_city_df[['user_id', 'count']].groupby('user_id').sum()\n",
    "user_city.reset_index(inplace = True)\n",
    "\n",
    "Threshold = 70\n",
    "user_city['local'] = user_city['count'].apply(lambda x: True if x >= Threshold else False)\n",
    "\n",
    "user_city.head()"
   ]
  },
  {
   "cell_type": "code",
   "execution_count": 57,
   "id": "b2846fc5",
   "metadata": {
    "scrolled": true
   },
   "outputs": [
    {
     "data": {
      "text/html": [
       "<div>\n",
       "<style scoped>\n",
       "    .dataframe tbody tr th:only-of-type {\n",
       "        vertical-align: middle;\n",
       "    }\n",
       "\n",
       "    .dataframe tbody tr th {\n",
       "        vertical-align: top;\n",
       "    }\n",
       "\n",
       "    .dataframe thead th {\n",
       "        text-align: right;\n",
       "    }\n",
       "</style>\n",
       "<table border=\"1\" class=\"dataframe\">\n",
       "  <thead>\n",
       "    <tr style=\"text-align: right;\">\n",
       "      <th></th>\n",
       "      <th>user_id</th>\n",
       "      <th>city</th>\n",
       "      <th>count</th>\n",
       "      <th>local</th>\n",
       "    </tr>\n",
       "  </thead>\n",
       "  <tbody>\n",
       "    <tr>\n",
       "      <th>199</th>\n",
       "      <td>--JxzhxSwOjTXmnaWU_7DQ</td>\n",
       "      <td>Richmond</td>\n",
       "      <td>100.000000</td>\n",
       "      <td>True</td>\n",
       "    </tr>\n",
       "    <tr>\n",
       "      <th>220</th>\n",
       "      <td>--N3a9oKp38UlsOswdLx1Q</td>\n",
       "      <td>Richmond</td>\n",
       "      <td>75.000000</td>\n",
       "      <td>True</td>\n",
       "    </tr>\n",
       "    <tr>\n",
       "      <th>260</th>\n",
       "      <td>--SX97LkvytDEKL7GeJ87Q</td>\n",
       "      <td>Richmond</td>\n",
       "      <td>20.000000</td>\n",
       "      <td>False</td>\n",
       "    </tr>\n",
       "    <tr>\n",
       "      <th>264</th>\n",
       "      <td>--T4AaKXe3q98YJPP5gcTQ</td>\n",
       "      <td>Richmond</td>\n",
       "      <td>14.285714</td>\n",
       "      <td>False</td>\n",
       "    </tr>\n",
       "    <tr>\n",
       "      <th>314</th>\n",
       "      <td>--Z3D9wpKcTQ9NxCKWWQtA</td>\n",
       "      <td>Richmond</td>\n",
       "      <td>100.000000</td>\n",
       "      <td>True</td>\n",
       "    </tr>\n",
       "    <tr>\n",
       "      <th>814</th>\n",
       "      <td>-0O2d7C1KFutGQmdCtJmYA</td>\n",
       "      <td>Richmond</td>\n",
       "      <td>9.638554</td>\n",
       "      <td>False</td>\n",
       "    </tr>\n",
       "    <tr>\n",
       "      <th>1325</th>\n",
       "      <td>-1EVwBXVsw2lbc66GRuVtQ</td>\n",
       "      <td>Richmond</td>\n",
       "      <td>16.666667</td>\n",
       "      <td>False</td>\n",
       "    </tr>\n",
       "    <tr>\n",
       "      <th>1336</th>\n",
       "      <td>-1Ggrhh5GVEYARP1eA817g</td>\n",
       "      <td>Richmond</td>\n",
       "      <td>100.000000</td>\n",
       "      <td>True</td>\n",
       "    </tr>\n",
       "    <tr>\n",
       "      <th>1390</th>\n",
       "      <td>-1M3sFN4ZOCR59-mYJr65A</td>\n",
       "      <td>Richmond</td>\n",
       "      <td>17.391304</td>\n",
       "      <td>False</td>\n",
       "    </tr>\n",
       "    <tr>\n",
       "      <th>1464</th>\n",
       "      <td>-1Wj5JcUctnODWRyaIA9Ag</td>\n",
       "      <td>Richmond</td>\n",
       "      <td>100.000000</td>\n",
       "      <td>True</td>\n",
       "    </tr>\n",
       "  </tbody>\n",
       "</table>\n",
       "</div>"
      ],
      "text/plain": [
       "                     user_id      city       count  local\n",
       "199   --JxzhxSwOjTXmnaWU_7DQ  Richmond  100.000000   True\n",
       "220   --N3a9oKp38UlsOswdLx1Q  Richmond   75.000000   True\n",
       "260   --SX97LkvytDEKL7GeJ87Q  Richmond   20.000000  False\n",
       "264   --T4AaKXe3q98YJPP5gcTQ  Richmond   14.285714  False\n",
       "314   --Z3D9wpKcTQ9NxCKWWQtA  Richmond  100.000000   True\n",
       "814   -0O2d7C1KFutGQmdCtJmYA  Richmond    9.638554  False\n",
       "1325  -1EVwBXVsw2lbc66GRuVtQ  Richmond   16.666667  False\n",
       "1336  -1Ggrhh5GVEYARP1eA817g  Richmond  100.000000   True\n",
       "1390  -1M3sFN4ZOCR59-mYJr65A  Richmond   17.391304  False\n",
       "1464  -1Wj5JcUctnODWRyaIA9Ag  Richmond  100.000000   True"
      ]
     },
     "execution_count": 57,
     "metadata": {},
     "output_type": "execute_result"
    }
   ],
   "source": [
    "user_richmond = user_city[user_city[\"city\"].str.contains(\"richmond\", case = False)]\n",
    "user_richmond.head(10)\n"
   ]
  },
  {
   "cell_type": "markdown",
   "id": "268491ec",
   "metadata": {},
   "source": [
    "### Which City has most reviews for resturants?"
   ]
  },
  {
   "cell_type": "code",
   "execution_count": 70,
   "id": "8c11804f",
   "metadata": {},
   "outputs": [
    {
     "name": "stderr",
     "output_type": "stream",
     "text": [
      "                                                                                \r"
     ]
    }
   ],
   "source": [
    "# change df_r to df_r_oh\n",
    "review_business = df_re.join(df_r_oh, [\"business_id\"], 'inner')\n",
    "review_business_pd = review_business.groupby('city').count().toPandas()"
   ]
  },
  {
   "cell_type": "code",
   "execution_count": 71,
   "id": "a81df0fd",
   "metadata": {},
   "outputs": [],
   "source": [
    "review_business_pd = review_business_pd.sort_values('count',ascending=False)\n",
    "review_business_pd = review_business_pd.iloc[:10]"
   ]
  },
  {
   "cell_type": "code",
   "execution_count": 72,
   "id": "1f7f6dfe",
   "metadata": {},
   "outputs": [
    {
     "data": {
      "image/png": "[encoded data removed]",
      "text/plain": [
       "<Figure size 1080x360 with 1 Axes>"
      ]
     },
     "metadata": {},
     "output_type": "display_data"
    }
   ],
   "source": [
    "ax = sns.barplot(x=\"city\", y=\"count\", data=review_business_pd)"
   ]
  },
  {
   "cell_type": "markdown",
   "id": "bd927069",
   "metadata": {},
   "source": [
    "## Top 10 Restaurant with most Five Star Reviews from Users\n"
   ]
  },
  {
   "cell_type": "code",
   "execution_count": 73,
   "id": "df3110c2",
   "metadata": {
    "scrolled": true
   },
   "outputs": [
    {
     "name": "stderr",
     "output_type": "stream",
     "text": [
      "                                                                                \r"
     ]
    },
    {
     "data": {
      "text/plain": [
       "Text(0, 0.5, 'Top 10 Popular Restaurants')"
      ]
     },
     "execution_count": 73,
     "metadata": {},
     "output_type": "execute_result"
    },
    {
     "data": {
      "image/png": "[encoded data removed]",
      "text/plain": [
       "<Figure size 1080x360 with 1 Axes>"
      ]
     },
     "metadata": {},
     "output_type": "display_data"
    }
   ],
   "source": [
    "most_five_star = review_business.filter(review_business.stars == 5)\n",
    "most_five_star_ = most_five_star.groupby('name').count().orderBy('count',ascending = 0).toPandas().iloc[0:10]\n",
    "p= sns.barplot(x=\"count\",y=\"name\", data=most_five_star_, linewidth=5)\n",
    "p.set_xlabel(\"Five Stars Count\", fontsize = 13)\n",
    "p.set_ylabel(\"Top 10 Popular Restaurants\", fontsize = 13)\n"
   ]
  },
  {
   "cell_type": "markdown",
   "id": "a290d971",
   "metadata": {},
   "source": [
    "## top 100 users in Ohio who made most reviews and count citys they visited"
   ]
  },
  {
   "cell_type": "code",
   "execution_count": 74,
   "id": "0d93b071",
   "metadata": {},
   "outputs": [
    {
     "name": "stderr",
     "output_type": "stream",
     "text": [
      "[Stage 232:===================================>                    (7 + 2) / 11]\r"
     ]
    },
    {
     "name": "stdout",
     "output_type": "stream",
     "text": [
      "+----------------------+----------------+-----------+\n",
      "|user_id               |count(review_id)|count(city)|\n",
      "+----------------------+----------------+-----------+\n",
      "|C1kTSvNdJH_S2bBhitr6ZA|917             |20         |\n",
      "|R1FVpAyl_BtxHBWdau2VLg|890             |29         |\n",
      "|JzP5uJjhZb0Vj8J_bn3mOg|748             |27         |\n",
      "|tgeFUChlh7v8bZFVl2-hjQ|625             |26         |\n",
      "|wZ0KFPTp1263hDl2M0gXGg|463             |15         |\n",
      "|VatcQtdb5tlz4D-N6y8e7A|411             |19         |\n",
      "|c0uIYXfInsCHPZEovnSLYw|409             |13         |\n",
      "|fNzgaewYge8DK2qtTPZzog|400             |25         |\n",
      "|ZVtccj29aF_JEy92KOyEqg|351             |17         |\n",
      "|wSByVbwME4MzgkJaFyfvNg|350             |17         |\n",
      "|nmdkHL2JKFx55T3nq5VziA|319             |20         |\n",
      "|PeIFSmI0I1ILYjUjjUSZdA|315             |17         |\n",
      "|9leRUv4_XFUuGyevKJKA-Q|311             |15         |\n",
      "|J72tTd5cnQ4EvtYToewELA|311             |11         |\n",
      "|TJMgOTcm2ShyOpablSYbXA|303             |19         |\n",
      "|1Iv3fyJSC5qk1zpzhPUdWA|302             |11         |\n",
      "|FGmWx0hFD-h3YuTEql1x2Q|290             |13         |\n",
      "|e7oFhe6690ucxKwzkwS49w|286             |15         |\n",
      "|wlUfN4_5MPnuA3xFAjV2_g|285             |17         |\n",
      "|wrTwwkRyUVMxI3cAr5MV2A|279             |13         |\n",
      "+----------------------+----------------+-----------+\n",
      "only showing top 20 rows\n",
      "\n"
     ]
    },
    {
     "name": "stderr",
     "output_type": "stream",
     "text": [
      "\r",
      "                                                                                \r"
     ]
    }
   ],
   "source": [
    "top_100 = review_business.groupby('user_id').agg(F.count(review_business.review_id),F.countDistinct(review_business.city)).orderBy('count(review_id)',ascending = 0).limit(100).show(truncate=False)\n"
   ]
  },
  {
   "cell_type": "markdown",
   "id": "b2422d05",
   "metadata": {},
   "source": [
    "### Reviews by State"
   ]
  },
  {
   "cell_type": "code",
   "execution_count": 77,
   "id": "1afc692e",
   "metadata": {},
   "outputs": [
    {
     "name": "stderr",
     "output_type": "stream",
     "text": [
      "                                                                                \r"
     ]
    },
    {
     "data": {
      "image/png": "[encoded data removed]",
      "text/plain": [
       "<Figure size 1080x360 with 1 Axes>"
      ]
     },
     "metadata": {},
     "output_type": "display_data"
    }
   ],
   "source": [
    "review_business = df_re.join(df_r, [\"business_id\"], 'inner')\n",
    "review_business_state = review_business.groupby('state').count().toPandas()\n",
    "review_business_state = review_business_state.sort_values('count',ascending=False)\n",
    "review_business_state = review_business_state.iloc[:10]\n",
    "ax = sns.barplot(x=\"state\", y=\"count\", data=review_business_state)"
   ]
  },
  {
   "cell_type": "code",
   "execution_count": 64,
   "id": "f8017b4d",
   "metadata": {},
   "outputs": [],
   "source": [
    "df_r_oh = df_r.filter(df_r.state=='OH')"
   ]
  },
  {
   "cell_type": "code",
   "execution_count": 65,
   "id": "d967f20b",
   "metadata": {
    "scrolled": false
   },
   "outputs": [
    {
     "name": "stderr",
     "output_type": "stream",
     "text": [
      "                                                                                \r"
     ]
    },
    {
     "data": {
      "text/html": [
       "<div>\n",
       "<style scoped>\n",
       "    .dataframe tbody tr th:only-of-type {\n",
       "        vertical-align: middle;\n",
       "    }\n",
       "\n",
       "    .dataframe tbody tr th {\n",
       "        vertical-align: top;\n",
       "    }\n",
       "\n",
       "    .dataframe thead th {\n",
       "        text-align: right;\n",
       "    }\n",
       "</style>\n",
       "<table border=\"1\" class=\"dataframe\">\n",
       "  <thead>\n",
       "    <tr style=\"text-align: right;\">\n",
       "      <th></th>\n",
       "      <th>business_id</th>\n",
       "      <th>name</th>\n",
       "      <th>city</th>\n",
       "      <th>state</th>\n",
       "      <th>postal_code</th>\n",
       "      <th>latitude</th>\n",
       "      <th>longitude</th>\n",
       "      <th>stars</th>\n",
       "      <th>review_count</th>\n",
       "      <th>is_open</th>\n",
       "      <th>categories</th>\n",
       "    </tr>\n",
       "  </thead>\n",
       "  <tbody>\n",
       "    <tr>\n",
       "      <th>4133</th>\n",
       "      <td>Q-xb6mzQYiJ8ujaMhCeSyQ</td>\n",
       "      <td>Tacomania</td>\n",
       "      <td>columbus</td>\n",
       "      <td>OH</td>\n",
       "      <td>43035</td>\n",
       "      <td>40.069121</td>\n",
       "      <td>-83.094131</td>\n",
       "      <td>5.0</td>\n",
       "      <td>8</td>\n",
       "      <td>1</td>\n",
       "      <td>Tacos, Burgers, Mexican, Restaurants, Food Tru...</td>\n",
       "    </tr>\n",
       "    <tr>\n",
       "      <th>4156</th>\n",
       "      <td>rTqQvMbianytSBc4h3sRQw</td>\n",
       "      <td>Los Agavez Taqueria</td>\n",
       "      <td>Columbus</td>\n",
       "      <td>OH</td>\n",
       "      <td>43202</td>\n",
       "      <td>40.026783</td>\n",
       "      <td>-83.013703</td>\n",
       "      <td>5.0</td>\n",
       "      <td>62</td>\n",
       "      <td>1</td>\n",
       "      <td>Street Vendors, Mexican, Food, Food Trucks, Re...</td>\n",
       "    </tr>\n",
       "    <tr>\n",
       "      <th>4146</th>\n",
       "      <td>SRcVzDKPsqlwNSy68pssxA</td>\n",
       "      <td>Mo's Place</td>\n",
       "      <td>Commercial Point</td>\n",
       "      <td>OH</td>\n",
       "      <td>43116</td>\n",
       "      <td>39.768564</td>\n",
       "      <td>-83.057583</td>\n",
       "      <td>5.0</td>\n",
       "      <td>6</td>\n",
       "      <td>1</td>\n",
       "      <td>Sandwiches, Pizza, Restaurants</td>\n",
       "    </tr>\n",
       "    <tr>\n",
       "      <th>4147</th>\n",
       "      <td>9D-hh7wWwGGA-qDDche19Q</td>\n",
       "      <td>Gary's Hole In One</td>\n",
       "      <td>Grove City</td>\n",
       "      <td>OH</td>\n",
       "      <td>43123</td>\n",
       "      <td>39.877398</td>\n",
       "      <td>-83.055309</td>\n",
       "      <td>5.0</td>\n",
       "      <td>5</td>\n",
       "      <td>1</td>\n",
       "      <td>Lounges, Bars, Nightlife, Chinese, Restaurants</td>\n",
       "    </tr>\n",
       "    <tr>\n",
       "      <th>4148</th>\n",
       "      <td>UKMiC9K7vJF5stMaJXrN6g</td>\n",
       "      <td>Tony's Bar &amp; Grille</td>\n",
       "      <td>London</td>\n",
       "      <td>OH</td>\n",
       "      <td>43140</td>\n",
       "      <td>39.900468</td>\n",
       "      <td>-83.434476</td>\n",
       "      <td>5.0</td>\n",
       "      <td>6</td>\n",
       "      <td>1</td>\n",
       "      <td>Burgers, Chicken Wings, Restaurants, American ...</td>\n",
       "    </tr>\n",
       "    <tr>\n",
       "      <th>4149</th>\n",
       "      <td>_hvHNH2DskVyN7zr6bGqIw</td>\n",
       "      <td>R Cafe née \"Red Velvet Cafe Pickerington\"</td>\n",
       "      <td>Pickerington</td>\n",
       "      <td>OH</td>\n",
       "      <td>43147</td>\n",
       "      <td>39.912065</td>\n",
       "      <td>-82.778893</td>\n",
       "      <td>5.0</td>\n",
       "      <td>51</td>\n",
       "      <td>0</td>\n",
       "      <td>Sandwiches, Cupcakes, Empanadas, Food, Restaur...</td>\n",
       "    </tr>\n",
       "    <tr>\n",
       "      <th>4150</th>\n",
       "      <td>-AIj0yS_K7tnCKOtKnbzWw</td>\n",
       "      <td>Squeek's Bar and Grill</td>\n",
       "      <td>Pickerington</td>\n",
       "      <td>OH</td>\n",
       "      <td>43147</td>\n",
       "      <td>39.911563</td>\n",
       "      <td>-82.778446</td>\n",
       "      <td>5.0</td>\n",
       "      <td>6</td>\n",
       "      <td>1</td>\n",
       "      <td>Nightlife, American (Traditional), Arts &amp; Ente...</td>\n",
       "    </tr>\n",
       "    <tr>\n",
       "      <th>4152</th>\n",
       "      <td>4cNxeCSjPi9zP-UJvK1IfQ</td>\n",
       "      <td>Dan's Deli No 44</td>\n",
       "      <td>Columbus</td>\n",
       "      <td>OH</td>\n",
       "      <td>43201</td>\n",
       "      <td>39.993820</td>\n",
       "      <td>-83.006469</td>\n",
       "      <td>5.0</td>\n",
       "      <td>6</td>\n",
       "      <td>1</td>\n",
       "      <td>Street Vendors, Food, Delis, Restaurants</td>\n",
       "    </tr>\n",
       "    <tr>\n",
       "      <th>4153</th>\n",
       "      <td>zMLfeOoVUSjv6xqddv2kdA</td>\n",
       "      <td>Crazy Corky's Café</td>\n",
       "      <td>Columbus</td>\n",
       "      <td>OH</td>\n",
       "      <td>43201</td>\n",
       "      <td>40.004470</td>\n",
       "      <td>-83.008242</td>\n",
       "      <td>5.0</td>\n",
       "      <td>5</td>\n",
       "      <td>0</td>\n",
       "      <td>Cafes, Food, American (New), Sandwiches, Resta...</td>\n",
       "    </tr>\n",
       "    <tr>\n",
       "      <th>4154</th>\n",
       "      <td>6rFfI22GfWYQb1SO0AP7iA</td>\n",
       "      <td>Outsliders at Little Rock</td>\n",
       "      <td>Columbus</td>\n",
       "      <td>OH</td>\n",
       "      <td>43201</td>\n",
       "      <td>39.982242</td>\n",
       "      <td>-82.998442</td>\n",
       "      <td>5.0</td>\n",
       "      <td>5</td>\n",
       "      <td>1</td>\n",
       "      <td>Bars, Restaurants, Nightlife, American (New), ...</td>\n",
       "    </tr>\n",
       "  </tbody>\n",
       "</table>\n",
       "</div>"
      ],
      "text/plain": [
       "                 business_id                                       name  \\\n",
       "4133  Q-xb6mzQYiJ8ujaMhCeSyQ                                  Tacomania   \n",
       "4156  rTqQvMbianytSBc4h3sRQw                        Los Agavez Taqueria   \n",
       "4146  SRcVzDKPsqlwNSy68pssxA                                 Mo's Place   \n",
       "4147  9D-hh7wWwGGA-qDDche19Q                         Gary's Hole In One   \n",
       "4148  UKMiC9K7vJF5stMaJXrN6g                        Tony's Bar & Grille   \n",
       "4149  _hvHNH2DskVyN7zr6bGqIw  R Cafe née \"Red Velvet Cafe Pickerington\"   \n",
       "4150  -AIj0yS_K7tnCKOtKnbzWw                     Squeek's Bar and Grill   \n",
       "4152  4cNxeCSjPi9zP-UJvK1IfQ                           Dan's Deli No 44   \n",
       "4153  zMLfeOoVUSjv6xqddv2kdA                         Crazy Corky's Café   \n",
       "4154  6rFfI22GfWYQb1SO0AP7iA                  Outsliders at Little Rock   \n",
       "\n",
       "                  city state postal_code   latitude  longitude  stars  \\\n",
       "4133          columbus    OH       43035  40.069121 -83.094131    5.0   \n",
       "4156          Columbus    OH       43202  40.026783 -83.013703    5.0   \n",
       "4146  Commercial Point    OH       43116  39.768564 -83.057583    5.0   \n",
       "4147        Grove City    OH       43123  39.877398 -83.055309    5.0   \n",
       "4148            London    OH       43140  39.900468 -83.434476    5.0   \n",
       "4149      Pickerington    OH       43147  39.912065 -82.778893    5.0   \n",
       "4150      Pickerington    OH       43147  39.911563 -82.778446    5.0   \n",
       "4152          Columbus    OH       43201  39.993820 -83.006469    5.0   \n",
       "4153          Columbus    OH       43201  40.004470 -83.008242    5.0   \n",
       "4154          Columbus    OH       43201  39.982242 -82.998442    5.0   \n",
       "\n",
       "      review_count  is_open                                         categories  \n",
       "4133             8        1  Tacos, Burgers, Mexican, Restaurants, Food Tru...  \n",
       "4156            62        1  Street Vendors, Mexican, Food, Food Trucks, Re...  \n",
       "4146             6        1                     Sandwiches, Pizza, Restaurants  \n",
       "4147             5        1     Lounges, Bars, Nightlife, Chinese, Restaurants  \n",
       "4148             6        1  Burgers, Chicken Wings, Restaurants, American ...  \n",
       "4149            51        0  Sandwiches, Cupcakes, Empanadas, Food, Restaur...  \n",
       "4150             6        1  Nightlife, American (Traditional), Arts & Ente...  \n",
       "4152             6        1           Street Vendors, Food, Delis, Restaurants  \n",
       "4153             5        0  Cafes, Food, American (New), Sandwiches, Resta...  \n",
       "4154             5        1  Bars, Restaurants, Nightlife, American (New), ...  "
      ]
     },
     "execution_count": 65,
     "metadata": {},
     "output_type": "execute_result"
    }
   ],
   "source": [
    "df_r_oh_pd =  df_r_oh.toPandas()\n",
    "df_r_oh_2 = df_r_oh_pd.sort_values('stars',ascending=False)[:10]\n",
    "df_r_oh_2"
   ]
  },
  {
   "cell_type": "code",
   "execution_count": 66,
   "id": "92eee61d",
   "metadata": {},
   "outputs": [],
   "source": [
    "df_r_oh_2 = df_r_oh_2.drop(['postal_code','latitude','longitude','is_open'],axis=1)"
   ]
  },
  {
   "cell_type": "code",
   "execution_count": 67,
   "id": "5ad146b2",
   "metadata": {},
   "outputs": [
    {
     "data": {
      "image/png": "[encoded data removed]",
      "text/plain": [
       "<Figure size 1080x360 with 1 Axes>"
      ]
     },
     "metadata": {},
     "output_type": "display_data"
    }
   ],
   "source": [
    "#Top rating Resturants In ohio\n",
    "sns.set(rc={'figure.figsize':(15,5)})\n",
    "ax = sns.barplot(x=\"name\", y=\"review_count\", hue=\"stars\", data=df_r_oh_2)\n"
   ]
  },
  {
   "cell_type": "code",
   "execution_count": 105,
   "id": "e2562823",
   "metadata": {},
   "outputs": [],
   "source": [
    "df_r_oh_3 = df_r_oh_pd.sample(n = 8)"
   ]
  },
  {
   "cell_type": "code",
   "execution_count": 106,
   "id": "6de066e7",
   "metadata": {
    "scrolled": false
   },
   "outputs": [
    {
     "data": {
      "image/png": "[encoded data removed]",
      "text/plain": [
       "<Figure size 1656x360 with 1 Axes>"
      ]
     },
     "metadata": {},
     "output_type": "display_data"
    }
   ],
   "source": [
    "#5 random  Resturants In ohio\n",
    "sns.set(rc={'figure.figsize':(23,5)})\n",
    "ax = sns.barplot(x=\"name\", y=\"review_count\", hue=\"stars\", data=df_r_oh_3)"
   ]
  },
  {
   "cell_type": "code",
   "execution_count": 30,
   "id": "b30828e1",
   "metadata": {},
   "outputs": [],
   "source": [
    "df_restaurant = df_b.where(df_b.categories.like('%Restaurant%') | (df_b.state == 'OH')).select('name', 'stars', 'review_count')"
   ]
  },
  {
   "cell_type": "code",
   "execution_count": 31,
   "id": "d272fb0e",
   "metadata": {},
   "outputs": [],
   "source": [
    "pd_restaurant = df_restaurant.toPandas()"
   ]
  },
  {
   "cell_type": "code",
   "execution_count": 32,
   "id": "a48215ea",
   "metadata": {},
   "outputs": [
    {
     "data": {
      "text/plain": [
       "<seaborn.axisgrid.FacetGrid at 0x7fbd1c422700>"
      ]
     },
     "execution_count": 32,
     "metadata": {},
     "output_type": "execute_result"
    },
    {
     "data": {
      "image/png": "[encoded data removed]",
      "text/plain": [
       "<Figure size 882x252 with 1 Axes>"
      ]
     },
     "metadata": {
      "needs_background": "light"
     },
     "output_type": "display_data"
    }
   ],
   "source": [
    "ax = sns.catplot(x=\"review_count\", y=\"stars\", orient=\"h\", kind=\"boxen\", data = pd_restaurant.sample(n = 1000, random_state = 6), height=3.5, aspect=3.5)\n",
    "ax.set_axis_labels(\"Restaurant Review Count\", \"Restaurant Star Rating\")"
   ]
  },
  {
   "cell_type": "code",
   "execution_count": null,
   "id": "17163c1e",
   "metadata": {},
   "outputs": [],
   "source": []
  }
 ],
 "metadata": {
  "kernelspec": {
   "display_name": "PySpark",
   "language": "python",
   "name": "pyspark"
  },
  "language_info": {
   "codemirror_mode": {
    "name": "ipython",
    "version": 3
   },
   "file_extension": ".py",
   "mimetype": "text/x-python",
   "name": "python",
   "nbconvert_exporter": "python",
   "pygments_lexer": "ipython3",
   "version": "3.8.12"
  }
 },
 "nbformat": 4,
 "nbformat_minor": 5
}
