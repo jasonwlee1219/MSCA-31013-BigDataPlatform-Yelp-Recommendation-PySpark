{
 "cells": [
  {
   "cell_type": "markdown",
   "id": "50aa1ccd",
   "metadata": {},
   "source": [
    "# User In-State and Out-of-State Behavior Analysis"
   ]
  },
  {
   "cell_type": "markdown",
   "id": "96af9046",
   "metadata": {},
   "source": [
    "### Setting up enviroment"
   ]
  },
  {
   "cell_type": "code",
   "execution_count": 2,
   "id": "9b722be4",
   "metadata": {},
   "outputs": [],
   "source": [
    "# Python Stuff\n",
    "import pandas as pd\n",
    "import numpy as np\n",
    "import seaborn as sns\n",
    "from math import sin, cos, sqrt, atan2, radians\n",
    "\n",
    "# PySpark Stuff \n",
    "from pyspark.sql.functions import col, desc, avg\n",
    "from pyspark.sql import functions as F"
   ]
  },
  {
   "cell_type": "code",
   "execution_count": 3,
   "id": "4fa3fc34",
   "metadata": {},
   "outputs": [],
   "source": [
    "pd.set_option('display.max_columns', None)\n",
    "pd.set_option('display.max_rows', None)"
   ]
  },
  {
   "cell_type": "markdown",
   "id": "facd6a7b",
   "metadata": {},
   "source": [
    "### Loading Data"
   ]
  },
  {
   "cell_type": "code",
   "execution_count": 4,
   "id": "e5403abf",
   "metadata": {},
   "outputs": [],
   "source": [
    "table_b = 'red-formula-339716:gfds.yelp_business_basicdata'\n",
    "df_b = spark.read.format('bigquery').option('table', table_b).load()"
   ]
  },
  {
   "cell_type": "code",
   "execution_count": 5,
   "id": "ef3eaf74",
   "metadata": {},
   "outputs": [],
   "source": [
    "table_re = 'red-formula-339716:gfds.yelp_review'\n",
    "df_re = spark.read.format('bigquery').option('table', table_re).load()"
   ]
  },
  {
   "cell_type": "code",
   "execution_count": 6,
   "id": "98186c99",
   "metadata": {},
   "outputs": [],
   "source": [
    "df_review_slim = df_re.select(['user_id', 'business_id'])\n",
    "df_business_slim = df_b.select(['business_id', 'city', 'state'])\n",
    "df_review_business = df_review_slim.join(df_business_slim, on = 'business_id', how = 'inner').dropna()"
   ]
  },
  {
   "cell_type": "code",
   "execution_count": 7,
   "id": "c2e174c5",
   "metadata": {},
   "outputs": [
    {
     "name": "stderr",
     "output_type": "stream",
     "text": [
      "                                                                                \r"
     ]
    },
    {
     "name": "stdout",
     "output_type": "stream",
     "text": [
      "+--------------------+--------------------+---------+-----+\n",
      "|         business_id|             user_id|     city|state|\n",
      "+--------------------+--------------------+---------+-----+\n",
      "|y-vHCBFQCDMwzsMwJ...|6iyM-H6_bI13gl4Zn...| Portland|   OR|\n",
      "|P0Ltl7wZFDlHofnPq...|FVk12H4Cz4DkRzl8N...|Beaverton|   OR|\n",
      "+--------------------+--------------------+---------+-----+\n",
      "only showing top 2 rows\n",
      "\n"
     ]
    }
   ],
   "source": [
    "df_review_business.show(2)"
   ]
  },
  {
   "cell_type": "markdown",
   "id": "130a19d3",
   "metadata": {},
   "source": [
    "### Figuring out where the users are"
   ]
  },
  {
   "cell_type": "code",
   "execution_count": 8,
   "id": "00df5f7c",
   "metadata": {},
   "outputs": [],
   "source": [
    "# Give user a home state based on the state they most reviewed in. \n",
    "# If a person made half of all reviews in the same state, consider him/her living in the state.\n",
    "\n",
    "# Count review for each state\n",
    "user_state_df = df_review_business.groupby(['user_id', 'state']).count().withColumnRenamed(\"count\", \"state_count\")\n",
    "\n",
    "# Count total review \n",
    "user_df = df_review_business.groupby(['user_id']).count().withColumnRenamed(\"count\", \"total_count\")\n",
    "\n",
    "# Caluculate each state's percentage\n",
    "user_state_df = user_state_df.join(user_df, on = 'user_id', how = 'left')\n",
    "user_state_df = user_state_df.withColumn('state_percentage', col(\"state_count\") / col(\"total_count\"))\n",
    "\n",
    "Threshold = 0.50001\n",
    "user_state_df = user_state_df.withColumn('local', F.when((col(\"state_percentage\") > Threshold), 1).otherwise(0))"
   ]
  },
  {
   "cell_type": "code",
   "execution_count": 9,
   "id": "de64b24f",
   "metadata": {},
   "outputs": [
    {
     "name": "stderr",
     "output_type": "stream",
     "text": [
      "[Stage 10:>                                                         (0 + 1) / 1]\r"
     ]
    },
    {
     "name": "stdout",
     "output_type": "stream",
     "text": [
      "+--------------------+-----+-----------+-----------+------------------+-----+\n",
      "|             user_id|state|state_count|total_count|  state_percentage|local|\n",
      "+--------------------+-----+-----------+-----------+------------------+-----+\n",
      "|--0666UC6t7DJWO4m...|   FL|          1|          1|               1.0|    1|\n",
      "|--0LWpVOR539pgBvl...|   MA|          1|          1|               1.0|    1|\n",
      "|--19CSe_41_fEKvfV...|   CO|          1|          1|               1.0|    1|\n",
      "|--2GHi3yi8D4yBuUY...|   OR|          2|          2|               1.0|    1|\n",
      "|--2JSDM9cMaxm8CHX...|   CO|          1|          1|               1.0|    1|\n",
      "|--56dSK1Y7agEMyIJ...|   TX|          1|          1|               1.0|    1|\n",
      "|--5FEgQNB3_7Wtjxk...|   WA|          4|          6|0.6666666666666666|    1|\n",
      "|--5FEgQNB3_7Wtjxk...|   OR|          2|          6|0.3333333333333333|    0|\n",
      "|--9BvAldSQW8wmAn0...|   OR|          1|          1|               1.0|    1|\n",
      "|--A8rRSzpXtQ0MzgY...|   MA|         10|         10|               1.0|    1|\n",
      "+--------------------+-----+-----------+-----------+------------------+-----+\n",
      "only showing top 10 rows\n",
      "\n"
     ]
    },
    {
     "name": "stderr",
     "output_type": "stream",
     "text": [
      "\r",
      "                                                                                \r"
     ]
    }
   ],
   "source": [
    "user_state_df.show(10)"
   ]
  },
  {
   "cell_type": "code",
   "execution_count": 10,
   "id": "1a827552",
   "metadata": {},
   "outputs": [],
   "source": [
    "user_state_labels = user_state_df.select(['user_id', 'state']).where(user_state_df.local == 1)"
   ]
  },
  {
   "cell_type": "markdown",
   "id": "2e15b9f3",
   "metadata": {},
   "source": [
    "### Figure out where the reviews came from"
   ]
  },
  {
   "cell_type": "code",
   "execution_count": 11,
   "id": "b50d0cf3",
   "metadata": {},
   "outputs": [],
   "source": [
    "# For each review, give user state labels\n",
    "df_re_us = df_re.select('user_id', 'business_id', 'stars').join(user_state_labels, on = 'user_id', how = 'left').withColumnRenamed(\"state\", \"user_state\")\n",
    "df_re_us = df_re_us.dropna()"
   ]
  },
  {
   "cell_type": "code",
   "execution_count": 12,
   "id": "7b90df07",
   "metadata": {},
   "outputs": [
    {
     "name": "stderr",
     "output_type": "stream",
     "text": [
      "[Stage 21:>                                                         (0 + 1) / 1]\r"
     ]
    },
    {
     "name": "stdout",
     "output_type": "stream",
     "text": [
      "+--------------------+--------------------+-----+----------+\n",
      "|             user_id|         business_id|stars|user_state|\n",
      "+--------------------+--------------------+-----+----------+\n",
      "|--0666UC6t7DJWO4m...|5xS76cdT7THG14H_W...|  1.0|        FL|\n",
      "|--0LWpVOR539pgBvl...|QVnatPo7jCEh9FcKl...|  1.0|        MA|\n",
      "|--19CSe_41_fEKvfV...|i7jMAf1cZJ9h1FRTQ...|  5.0|        CO|\n",
      "+--------------------+--------------------+-----+----------+\n",
      "only showing top 3 rows\n",
      "\n"
     ]
    },
    {
     "name": "stderr",
     "output_type": "stream",
     "text": [
      "\r",
      "                                                                                \r"
     ]
    }
   ],
   "source": [
    "df_re_us.show(3)"
   ]
  },
  {
   "cell_type": "code",
   "execution_count": 13,
   "id": "a1d2a6cc",
   "metadata": {},
   "outputs": [
    {
     "name": "stderr",
     "output_type": "stream",
     "text": [
      "[Stage 33:>                                                         (0 + 1) / 1]\r"
     ]
    },
    {
     "name": "stdout",
     "output_type": "stream",
     "text": [
      "+--------------------+--------------------+-----+----------+--------------+\n",
      "|         business_id|             user_id|stars|user_state|business_state|\n",
      "+--------------------+--------------------+-----+----------+--------------+\n",
      "|5xS76cdT7THG14H_W...|--0666UC6t7DJWO4m...|  1.0|        FL|            FL|\n",
      "|QVnatPo7jCEh9FcKl...|--0LWpVOR539pgBvl...|  1.0|        MA|            MA|\n",
      "|i7jMAf1cZJ9h1FRTQ...|--19CSe_41_fEKvfV...|  5.0|        CO|            CO|\n",
      "+--------------------+--------------------+-----+----------+--------------+\n",
      "only showing top 3 rows\n",
      "\n"
     ]
    },
    {
     "name": "stderr",
     "output_type": "stream",
     "text": [
      "\r",
      "                                                                                \r"
     ]
    }
   ],
   "source": [
    "# For each review, give business state labels\n",
    "df_re_lb = df_re_us.join(df_b.select('business_id', 'state'), on = 'business_id', how = 'left').withColumnRenamed(\"state\", \"business_state\")\n",
    "df_re_lb.show(3)"
   ]
  },
  {
   "cell_type": "code",
   "execution_count": 14,
   "id": "e01fe4f4",
   "metadata": {},
   "outputs": [],
   "source": [
    "# See if review was from in state or out of state\n",
    "df_re_lb = df_re_lb.withColumn('in_state', F.when((col(\"user_state\") == col(\"business_state\")), 1).otherwise(0))"
   ]
  },
  {
   "cell_type": "code",
   "execution_count": 15,
   "id": "e758f93e",
   "metadata": {},
   "outputs": [
    {
     "name": "stderr",
     "output_type": "stream",
     "text": [
      "[Stage 45:>                                                         (0 + 1) / 1]\r"
     ]
    },
    {
     "name": "stdout",
     "output_type": "stream",
     "text": [
      "+--------------------+--------------------+-----+----------+--------------+--------+\n",
      "|         business_id|             user_id|stars|user_state|business_state|in_state|\n",
      "+--------------------+--------------------+-----+----------+--------------+--------+\n",
      "|5xS76cdT7THG14H_W...|--0666UC6t7DJWO4m...|  1.0|        FL|            FL|       1|\n",
      "|QVnatPo7jCEh9FcKl...|--0LWpVOR539pgBvl...|  1.0|        MA|            MA|       1|\n",
      "|i7jMAf1cZJ9h1FRTQ...|--19CSe_41_fEKvfV...|  5.0|        CO|            CO|       1|\n",
      "|lAMX7ndl9sJh117Qh...|--2GHi3yi8D4yBuUY...|  4.0|        OR|            OR|       1|\n",
      "|1jW2Voh5XE7Yt6ZV-...|--2GHi3yi8D4yBuUY...|  5.0|        OR|            OR|       1|\n",
      "|IdY70ew8MHW_1rTvB...|--2JSDM9cMaxm8CHX...|  5.0|        CO|            CO|       1|\n",
      "|ZHxrgZY4NAqtnsBuo...|--56dSK1Y7agEMyIJ...|  4.0|        TX|            TX|       1|\n",
      "|huveiOZFjsFI_Aiq9...|--5FEgQNB3_7Wtjxk...|  4.0|        WA|            WA|       1|\n",
      "|ggqr9BEklylICKl77...|--5FEgQNB3_7Wtjxk...|  2.0|        WA|            WA|       1|\n",
      "|kj77ZrCsFlVuqWkIr...|--5FEgQNB3_7Wtjxk...|  5.0|        WA|            WA|       1|\n",
      "+--------------------+--------------------+-----+----------+--------------+--------+\n",
      "only showing top 10 rows\n",
      "\n"
     ]
    },
    {
     "name": "stderr",
     "output_type": "stream",
     "text": [
      "\r",
      "                                                                                \r"
     ]
    }
   ],
   "source": [
    "df_re_lb.show(10)"
   ]
  },
  {
   "cell_type": "code",
   "execution_count": 16,
   "id": "45b7623a",
   "metadata": {},
   "outputs": [
    {
     "name": "stderr",
     "output_type": "stream",
     "text": [
      "[Stage 57:================================================>       (13 + 2) / 15]\r"
     ]
    },
    {
     "name": "stdout",
     "output_type": "stream",
     "text": [
      "+----------+-------+\n",
      "|user_state|  count|\n",
      "+----------+-------+\n",
      "|        MA|2053862|\n",
      "|        TX|1483963|\n",
      "|        OR|1414248|\n",
      "|        GA|1116795|\n",
      "|        FL|1087386|\n",
      "|        BC| 601700|\n",
      "|        OH| 421275|\n",
      "|        CO| 131227|\n",
      "|        WA|  98505|\n",
      "|        CA|    162|\n",
      "+----------+-------+\n",
      "only showing top 10 rows\n",
      "\n"
     ]
    },
    {
     "name": "stderr",
     "output_type": "stream",
     "text": [
      "\r",
      "                                                                                \r"
     ]
    }
   ],
   "source": [
    "df_re_lb.groupby('user_state').count().orderBy(desc(\"count\")).show(10)"
   ]
  },
  {
   "cell_type": "code",
   "execution_count": 17,
   "id": "90a84245",
   "metadata": {},
   "outputs": [],
   "source": [
    "# Will be looking into the top 7\n",
    "state_list = [\"MA\", \"TX\", \"OR\", \"GA\", \"FL\", \"BC\", \"OH\"]\n",
    "df_re_lb = df_re_lb.where(df_re_lb.user_state.isin(state_list))\n",
    "df_re_lb = df_re_lb.where(df_re_lb.business_state.isin(state_list))"
   ]
  },
  {
   "cell_type": "code",
   "execution_count": 18,
   "id": "5d65b426",
   "metadata": {},
   "outputs": [
    {
     "name": "stderr",
     "output_type": "stream",
     "text": [
      "                                                                                \r"
     ]
    }
   ],
   "source": [
    "df_re_lb_1 = df_re_lb.groupby('user_state').pivot('business_state').count().fillna(0)\n",
    "pd_ubc = df_re_lb_1.select('user_state', \"OR\", \"BC\", \"OH\", \"TX\", \"GA\", \"MA\", \"FL\").toPandas()"
   ]
  },
  {
   "cell_type": "code",
   "execution_count": 29,
   "id": "9b533639",
   "metadata": {},
   "outputs": [
    {
     "name": "stderr",
     "output_type": "stream",
     "text": [
      "                                                                                \r"
     ]
    }
   ],
   "source": [
    "df_re_lb_2 = df_re_lb.groupby('user_state').pivot('business_state').agg(avg(\"stars\")).fillna(0)\n",
    "pd_ubs = df_re_lb_2.select('user_state', \"OR\", \"BC\", \"OH\", \"TX\", \"GA\", \"MA\", \"FL\").toPandas()"
   ]
  },
  {
   "cell_type": "markdown",
   "id": "dea7258e",
   "metadata": {},
   "source": [
    "### Create heatmap"
   ]
  },
  {
   "cell_type": "code",
   "execution_count": 20,
   "id": "2ee56e82",
   "metadata": {},
   "outputs": [],
   "source": [
    "# Create heatmap\n",
    "# Count\n",
    "pd_ubc = pd_ubc.set_index(\"user_state\")\n",
    "np.fill_diagonal(pd_ubc.values, 0)"
   ]
  },
  {
   "cell_type": "code",
   "execution_count": 21,
   "id": "3b1e357f",
   "metadata": {},
   "outputs": [
    {
     "data": {
      "text/html": [
       "<div>\n",
       "<style scoped>\n",
       "    .dataframe tbody tr th:only-of-type {\n",
       "        vertical-align: middle;\n",
       "    }\n",
       "\n",
       "    .dataframe tbody tr th {\n",
       "        vertical-align: top;\n",
       "    }\n",
       "\n",
       "    .dataframe thead th {\n",
       "        text-align: right;\n",
       "    }\n",
       "</style>\n",
       "<table border=\"1\" class=\"dataframe\">\n",
       "  <thead>\n",
       "    <tr style=\"text-align: right;\">\n",
       "      <th></th>\n",
       "      <th>OR</th>\n",
       "      <th>BC</th>\n",
       "      <th>OH</th>\n",
       "      <th>TX</th>\n",
       "      <th>GA</th>\n",
       "      <th>MA</th>\n",
       "      <th>FL</th>\n",
       "    </tr>\n",
       "    <tr>\n",
       "      <th>user_state</th>\n",
       "      <th></th>\n",
       "      <th></th>\n",
       "      <th></th>\n",
       "      <th></th>\n",
       "      <th></th>\n",
       "      <th></th>\n",
       "      <th></th>\n",
       "    </tr>\n",
       "  </thead>\n",
       "  <tbody>\n",
       "    <tr>\n",
       "      <th>OR</th>\n",
       "      <td>0</td>\n",
       "      <td>9141</td>\n",
       "      <td>1243</td>\n",
       "      <td>7767</td>\n",
       "      <td>4582</td>\n",
       "      <td>8517</td>\n",
       "      <td>4776</td>\n",
       "    </tr>\n",
       "    <tr>\n",
       "      <th>BC</th>\n",
       "      <td>8449</td>\n",
       "      <td>0</td>\n",
       "      <td>211</td>\n",
       "      <td>1348</td>\n",
       "      <td>862</td>\n",
       "      <td>2281</td>\n",
       "      <td>1609</td>\n",
       "    </tr>\n",
       "    <tr>\n",
       "      <th>OH</th>\n",
       "      <td>1195</td>\n",
       "      <td>372</td>\n",
       "      <td>0</td>\n",
       "      <td>1531</td>\n",
       "      <td>2345</td>\n",
       "      <td>2594</td>\n",
       "      <td>3238</td>\n",
       "    </tr>\n",
       "    <tr>\n",
       "      <th>TX</th>\n",
       "      <td>8743</td>\n",
       "      <td>2545</td>\n",
       "      <td>1668</td>\n",
       "      <td>0</td>\n",
       "      <td>6990</td>\n",
       "      <td>10070</td>\n",
       "      <td>7540</td>\n",
       "    </tr>\n",
       "    <tr>\n",
       "      <th>GA</th>\n",
       "      <td>3943</td>\n",
       "      <td>1552</td>\n",
       "      <td>2063</td>\n",
       "      <td>5687</td>\n",
       "      <td>0</td>\n",
       "      <td>9009</td>\n",
       "      <td>14810</td>\n",
       "    </tr>\n",
       "    <tr>\n",
       "      <th>MA</th>\n",
       "      <td>9272</td>\n",
       "      <td>3645</td>\n",
       "      <td>2570</td>\n",
       "      <td>10059</td>\n",
       "      <td>10252</td>\n",
       "      <td>0</td>\n",
       "      <td>14486</td>\n",
       "    </tr>\n",
       "    <tr>\n",
       "      <th>FL</th>\n",
       "      <td>3819</td>\n",
       "      <td>1874</td>\n",
       "      <td>2229</td>\n",
       "      <td>5727</td>\n",
       "      <td>14152</td>\n",
       "      <td>9535</td>\n",
       "      <td>0</td>\n",
       "    </tr>\n",
       "  </tbody>\n",
       "</table>\n",
       "</div>"
      ],
      "text/plain": [
       "              OR    BC    OH     TX     GA     MA     FL\n",
       "user_state                                              \n",
       "OR             0  9141  1243   7767   4582   8517   4776\n",
       "BC          8449     0   211   1348    862   2281   1609\n",
       "OH          1195   372     0   1531   2345   2594   3238\n",
       "TX          8743  2545  1668      0   6990  10070   7540\n",
       "GA          3943  1552  2063   5687      0   9009  14810\n",
       "MA          9272  3645  2570  10059  10252      0  14486\n",
       "FL          3819  1874  2229   5727  14152   9535      0"
      ]
     },
     "execution_count": 21,
     "metadata": {},
     "output_type": "execute_result"
    }
   ],
   "source": [
    "pd_ubc"
   ]
  },
  {
   "cell_type": "code",
   "execution_count": 25,
   "id": "80ecf1a7",
   "metadata": {},
   "outputs": [],
   "source": [
    "sns.set(rc = {'figure.figsize':(15,8)})"
   ]
  },
  {
   "cell_type": "code",
   "execution_count": 26,
   "id": "27c3dff0",
   "metadata": {},
   "outputs": [
    {
     "data": {
      "image/png": "[encoded data removed]",
      "text/plain": [
       "<Figure size 1080x576 with 2 Axes>"
      ]
     },
     "metadata": {},
     "output_type": "display_data"
    }
   ],
   "source": [
    "h = sns.heatmap(pd_ubc, annot=True,fmt=\".1f\", cmap=\"BuPu\")\n",
    "fig = h.get_figure()\n",
    "fig.savefig(\"ubc.png\") "
   ]
  },
  {
   "cell_type": "code",
   "execution_count": 30,
   "id": "55ed517c",
   "metadata": {},
   "outputs": [
    {
     "data": {
      "text/html": [
       "<div>\n",
       "<style scoped>\n",
       "    .dataframe tbody tr th:only-of-type {\n",
       "        vertical-align: middle;\n",
       "    }\n",
       "\n",
       "    .dataframe tbody tr th {\n",
       "        vertical-align: top;\n",
       "    }\n",
       "\n",
       "    .dataframe thead th {\n",
       "        text-align: right;\n",
       "    }\n",
       "</style>\n",
       "<table border=\"1\" class=\"dataframe\">\n",
       "  <thead>\n",
       "    <tr style=\"text-align: right;\">\n",
       "      <th></th>\n",
       "      <th>OR</th>\n",
       "      <th>BC</th>\n",
       "      <th>OH</th>\n",
       "      <th>TX</th>\n",
       "      <th>GA</th>\n",
       "      <th>MA</th>\n",
       "      <th>FL</th>\n",
       "    </tr>\n",
       "    <tr>\n",
       "      <th>user_state</th>\n",
       "      <th></th>\n",
       "      <th></th>\n",
       "      <th></th>\n",
       "      <th></th>\n",
       "      <th></th>\n",
       "      <th></th>\n",
       "      <th></th>\n",
       "    </tr>\n",
       "  </thead>\n",
       "  <tbody>\n",
       "    <tr>\n",
       "      <th>OR</th>\n",
       "      <td>3.866465</td>\n",
       "      <td>3.956460</td>\n",
       "      <td>3.757039</td>\n",
       "      <td>4.001287</td>\n",
       "      <td>3.708206</td>\n",
       "      <td>3.802630</td>\n",
       "      <td>3.692002</td>\n",
       "    </tr>\n",
       "    <tr>\n",
       "      <th>BC</th>\n",
       "      <td>4.015150</td>\n",
       "      <td>3.607017</td>\n",
       "      <td>4.000000</td>\n",
       "      <td>3.968843</td>\n",
       "      <td>3.635731</td>\n",
       "      <td>3.760193</td>\n",
       "      <td>3.731510</td>\n",
       "    </tr>\n",
       "    <tr>\n",
       "      <th>OH</th>\n",
       "      <td>4.052720</td>\n",
       "      <td>4.077957</td>\n",
       "      <td>3.688640</td>\n",
       "      <td>3.937296</td>\n",
       "      <td>3.715139</td>\n",
       "      <td>3.833462</td>\n",
       "      <td>3.749846</td>\n",
       "    </tr>\n",
       "    <tr>\n",
       "      <th>TX</th>\n",
       "      <td>4.088185</td>\n",
       "      <td>4.008251</td>\n",
       "      <td>3.902278</td>\n",
       "      <td>3.822535</td>\n",
       "      <td>3.736767</td>\n",
       "      <td>3.811718</td>\n",
       "      <td>3.688064</td>\n",
       "    </tr>\n",
       "    <tr>\n",
       "      <th>GA</th>\n",
       "      <td>4.078620</td>\n",
       "      <td>3.932990</td>\n",
       "      <td>3.708677</td>\n",
       "      <td>3.979075</td>\n",
       "      <td>3.645420</td>\n",
       "      <td>3.765457</td>\n",
       "      <td>3.743147</td>\n",
       "    </tr>\n",
       "    <tr>\n",
       "      <th>MA</th>\n",
       "      <td>4.080457</td>\n",
       "      <td>3.975034</td>\n",
       "      <td>3.822957</td>\n",
       "      <td>4.000099</td>\n",
       "      <td>3.766290</td>\n",
       "      <td>3.643913</td>\n",
       "      <td>3.698537</td>\n",
       "    </tr>\n",
       "    <tr>\n",
       "      <th>FL</th>\n",
       "      <td>4.080649</td>\n",
       "      <td>4.074173</td>\n",
       "      <td>3.898609</td>\n",
       "      <td>4.011874</td>\n",
       "      <td>3.814655</td>\n",
       "      <td>3.843314</td>\n",
       "      <td>3.717402</td>\n",
       "    </tr>\n",
       "  </tbody>\n",
       "</table>\n",
       "</div>"
      ],
      "text/plain": [
       "                  OR        BC        OH        TX        GA        MA  \\\n",
       "user_state                                                               \n",
       "OR          3.866465  3.956460  3.757039  4.001287  3.708206  3.802630   \n",
       "BC          4.015150  3.607017  4.000000  3.968843  3.635731  3.760193   \n",
       "OH          4.052720  4.077957  3.688640  3.937296  3.715139  3.833462   \n",
       "TX          4.088185  4.008251  3.902278  3.822535  3.736767  3.811718   \n",
       "GA          4.078620  3.932990  3.708677  3.979075  3.645420  3.765457   \n",
       "MA          4.080457  3.975034  3.822957  4.000099  3.766290  3.643913   \n",
       "FL          4.080649  4.074173  3.898609  4.011874  3.814655  3.843314   \n",
       "\n",
       "                  FL  \n",
       "user_state            \n",
       "OR          3.692002  \n",
       "BC          3.731510  \n",
       "OH          3.749846  \n",
       "TX          3.688064  \n",
       "GA          3.743147  \n",
       "MA          3.698537  \n",
       "FL          3.717402  "
      ]
     },
     "execution_count": 30,
     "metadata": {},
     "output_type": "execute_result"
    }
   ],
   "source": [
    "pd_ubs = pd_ubs.set_index(\"user_state\")\n",
    "pd_ubs"
   ]
  },
  {
   "cell_type": "code",
   "execution_count": 31,
   "id": "caf7d105",
   "metadata": {},
   "outputs": [
    {
     "data": {
      "image/png": "[encoded data removed]",
      "text/plain": [
       "<Figure size 1080x576 with 2 Axes>"
      ]
     },
     "metadata": {},
     "output_type": "display_data"
    }
   ],
   "source": [
    "h = sns.heatmap(pd_ubs, annot=True, fmt=\".1f\", cmap=\"BuPu\")\n",
    "fig = h.get_figure()\n",
    "fig.savefig(\"ubs.png\") "
   ]
  },
  {
   "cell_type": "code",
   "execution_count": null,
   "id": "efe17c7b",
   "metadata": {},
   "outputs": [],
   "source": []
  },
  {
   "cell_type": "code",
   "execution_count": null,
   "id": "8503269f",
   "metadata": {},
   "outputs": [],
   "source": []
  }
 ],
 "metadata": {
  "kernelspec": {
   "display_name": "PySpark",
   "language": "python",
   "name": "pyspark"
  },
  "language_info": {
   "codemirror_mode": {
    "name": "ipython",
    "version": 3
   },
   "file_extension": ".py",
   "mimetype": "text/x-python",
   "name": "python",
   "nbconvert_exporter": "python",
   "pygments_lexer": "ipython3",
   "version": "3.8.12"
  }
 },
 "nbformat": 4,
 "nbformat_minor": 5
}
